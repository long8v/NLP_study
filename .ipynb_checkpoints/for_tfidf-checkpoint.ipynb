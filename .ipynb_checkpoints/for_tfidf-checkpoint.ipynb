{
 "cells": [
  {
   "cell_type": "markdown",
   "metadata": {},
   "source": [
    "# TDM"
   ]
  },
  {
   "cell_type": "code",
   "execution_count": 1,
   "metadata": {},
   "outputs": [],
   "source": [
    "import os"
   ]
  },
  {
   "cell_type": "code",
   "execution_count": 2,
   "metadata": {},
   "outputs": [],
   "source": [
    "path = r\"C:\\Users\\USER\\Dropbox\\자연어처리\\scraping\""
   ]
  },
  {
   "cell_type": "code",
   "execution_count": 8,
   "metadata": {},
   "outputs": [
    {
     "name": "stdout",
     "output_type": "stream",
     "text": [
      "20190208n13989.txt\n",
      "20181227n18530.txt\n",
      "20180716n13438.txt\n",
      "20190429n06935.txt\n",
      "20190426n02988.txt\n",
      "20190325184702922.txt\n",
      "20190514080006445.txt\n",
      "20190514040302235.txt\n",
      "20190514030715877.txt\n",
      "20190514103251692.txt\n",
      "20190514102427327.txt\n"
     ]
    }
   ],
   "source": [
    "portal = [\"/Nate\",\"/Daum\"]\n",
    "for p in portal:\n",
    "    for section in os.listdir(path+p):\n",
    "        for f in os.listdir(path+p+\"/\"+section):\n",
    "            "
   ]
  },
  {
   "cell_type": "code",
   "execution_count": null,
   "metadata": {},
   "outputs": [],
   "source": []
  }
 ],
 "metadata": {
  "kernelspec": {
   "display_name": "Python 3",
   "language": "python",
   "name": "python3"
  },
  "language_info": {
   "codemirror_mode": {
    "name": "ipython",
    "version": 3
   },
   "file_extension": ".py",
   "mimetype": "text/x-python",
   "name": "python",
   "nbconvert_exporter": "python",
   "pygments_lexer": "ipython3",
   "version": "3.7.3"
  }
 },
 "nbformat": 4,
 "nbformat_minor": 2
}
