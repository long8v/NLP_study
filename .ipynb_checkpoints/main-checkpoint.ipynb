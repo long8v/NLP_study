{
 "cells": [
  {
   "cell_type": "markdown",
   "metadata": {},
   "source": [
    "# 지원동기 대신 써주는 프로그램"
   ]
  },
  {
   "cell_type": "code",
   "execution_count": 1,
   "metadata": {},
   "outputs": [],
   "source": [
    "from bs4 import BeautifulSoup\n",
    "from downloads import *\n",
    "import requests\n",
    "import time\n",
    "import urllib\n",
    "import os\n",
    "from nltk.probability import FreqDist\n",
    "from NLP import * \n",
    "import numpy as np\n",
    "import pandas as pd\n",
    "import seaborn as sns\n",
    "import matplotlib \n",
    "import matplotlib.pyplot as plt\n",
    "import re\n",
    "import matplotlib.font_manager as fm\n",
    "import ngram\n",
    "from konlpy.tag import Hannanum, Kkma, Komoran, Okt #, Mecab (Linux)\n",
    "from wordcloud import WordCloud\n",
    "font_setting()"
   ]
  },
  {
   "cell_type": "markdown",
   "metadata": {},
   "source": [
    "# Input"
   ]
  },
  {
   "cell_type": "code",
   "execution_count": 21,
   "metadata": {},
   "outputs": [],
   "source": [
    "okt = Komoran()"
   ]
  },
  {
   "cell_type": "code",
   "execution_count": 2,
   "metadata": {},
   "outputs": [
    {
     "name": "stdout",
     "output_type": "stream",
     "text": [
      "지원하시는 회사의 이름을 기재해주세요\t삼성생명\n",
      "지원하는 회사의 직무를 기재해주세요\t디지털\n",
      "몇 페이지까지 검색할까요?(기본100페이지)\t\n"
     ]
    }
   ],
   "source": [
    "q = input(\"지원하시는 회사의 이름을 기재해주세요\\t\")\n",
    "q2 = input(\"지원하는 회사의 직무를 기재해주세요\\t\")\n",
    "try:\n",
    "    p = int(input(\"몇 페이지까지 검색할까요?(기본100페이지)\\t\"))\n",
    "except:\n",
    "    p = 100\n",
    "# q3=input(\"공고에 직무에 대한 설명이 있다면 키워드 중심으로 같이 써주세요(없을 시 공란으로 두세요)\\t\")"
   ]
  },
  {
   "cell_type": "code",
   "execution_count": 3,
   "metadata": {},
   "outputs": [],
   "source": [
    "def cleaning_query(query):\n",
    "    naver = BeautifulSoup(download(\"https://search.naver.com/search.naver?\",params={\"query\":query}).text,\"lxml\")\n",
    "    company_official_name = naver.select_one(\".sp_company .main_title\").text\n",
    "    company_name = [_.text for _ in naver.select(\".nsite dt a\")][0]\n",
    "    company_link = [_.text for _ in naver.select(\".nsite dt a\")][1].replace(\"www.\",\"\").replace(\".com\",\"\")\n",
    "    number = re.compile(\"\\d\")\n",
    "    company_details = [_.text.strip() for _ in naver.select(\".company_area .txt,.company_area .txt_info\") if not number.search(_.text)]\n",
    "    company_stock_name = company_details[0]\n",
    "    company_subsidary = company_details[1].split(\" \")[0]\n",
    "    company_ceo = company_details[2]\n",
    "    company_industry = company_details[3]\n",
    "    query_list = [query, q2]\n",
    "    query_list += [company_official_name,company_name,*split_sub(company_official_name),\n",
    "               *split_sub(company_name),company_stock_name,company_subsidary]\n",
    "    ub = re.compile(\"업\")\n",
    "    query_list.extend(ub.sub(\"\",company_industry).split())\n",
    "    for _ in range(2,len(q)):\n",
    "        query_list += ngram.umjeol(query,_)\n",
    "        query_list += ngram.umjeol(company_ceo,_)\n",
    "    query_list=[_.lower() for _ in query_list]\n",
    "    query_list = [_ for _ in unique(query_list) if _.strip() != \"\" and \",\" not in _] \n",
    "    company_friends = [_.text.strip() for _ in naver.select(\"._related_keyword_ul a\") \n",
    "                   if BeautifulSoup(download(\"https://search.naver.com/search.naver\"+_[\"href\"]).text,\"lxml\")\n",
    "                       .select(\".company_area .txt,.company_area .txt_info\") and len(_.text.split())==1]    \n",
    "    return query_list, company_official_name, company_name, company_link,company_friends"
   ]
  },
  {
   "cell_type": "code",
   "execution_count": 4,
   "metadata": {},
   "outputs": [],
   "source": [
    "def split_sub(name):\n",
    "    pttn=re.compile(\"[A-z]+\")\n",
    "    if pttn.search(name):\n",
    "        return pttn.findall(name)[0],pttn.sub(\"\",name)\n",
    "    else:\n",
    "        return ''"
   ]
  },
  {
   "cell_type": "code",
   "execution_count": 5,
   "metadata": {},
   "outputs": [],
   "source": [
    "query_list, company_official_name, company_name, company_link,company_friends = cleaning_query(q)"
   ]
  },
  {
   "cell_type": "code",
   "execution_count": 6,
   "metadata": {},
   "outputs": [
    {
     "data": {
      "text/plain": [
       "['메리츠화재', '교보생명', '삼성화재', '한화생명', '신한생명', '동양생명']"
      ]
     },
     "execution_count": 6,
     "metadata": {},
     "output_type": "execute_result"
    }
   ],
   "source": [
    "company_friends"
   ]
  },
  {
   "cell_type": "code",
   "execution_count": 7,
   "metadata": {},
   "outputs": [
    {
     "data": {
      "text/plain": [
       "'삼성생명보험'"
      ]
     },
     "execution_count": 7,
     "metadata": {},
     "output_type": "execute_result"
    }
   ],
   "source": [
    "company_official_name"
   ]
  },
  {
   "cell_type": "code",
   "execution_count": 8,
   "metadata": {},
   "outputs": [
    {
     "name": "stdout",
     "output_type": "stream",
     "text": [
      "삼성생명보험에 입사하게 된다면 최고의 디지털 전문가가 되도록 언제나 노력하겠습니다\n"
     ]
    }
   ],
   "source": [
    "print(\"{0}에 입사하게 된다면 최고의 {1} 전문가가 되도록 언제나 노력하겠습니다\".format(company_official_name,q2))"
   ]
  },
  {
   "cell_type": "markdown",
   "metadata": {},
   "source": [
    "# Crawling"
   ]
  },
  {
   "cell_type": "code",
   "execution_count": 9,
   "metadata": {},
   "outputs": [],
   "source": [
    "def clean_title(title,query):\n",
    "    for q in query:\n",
    "        if q in title:\n",
    "            title = title.replace(q,\"\")\n",
    "    pattern = re.compile(\"\\[.*\\]|\\(.*\\)\")\n",
    "    if pattern.search(title):\n",
    "        title = pattern.sub(\"\",title)\n",
    "    return title"
   ]
  },
  {
   "cell_type": "markdown",
   "metadata": {},
   "source": [
    "## keyword cleansing : 그룹사, 다른이름 빼기"
   ]
  },
  {
   "cell_type": "code",
   "execution_count": 10,
   "metadata": {},
   "outputs": [],
   "source": [
    "def crawler(query, p):\n",
    "    news_list=[]\n",
    "    for page in range(0,p):\n",
    "        url = download(\"https://search.naver.com/search.naver?\",params={\"where\":\"news\",\"query\":query,\"start\":page*10+1})\n",
    "        dom = BeautifulSoup(url.text,\"lxml\")\n",
    "        news_list += [clean_title(_.text,query_list) for _ in dom.select(\".type01 dt a\")]\n",
    "    return news_list"
   ]
  },
  {
   "cell_type": "markdown",
   "metadata": {},
   "source": [
    "## find keyword  : preprocessing"
   ]
  },
  {
   "cell_type": "code",
   "execution_count": 11,
   "metadata": {},
   "outputs": [],
   "source": [
    "def get_freq(text_list):\n",
    "    find_keyword = [_.upper().strip() for _ in text_list if _.strip() != \"\"]\n",
    "    pattern = re.compile(\"^NN|(SL)\")\n",
    "    okt = Komoran()\n",
    "    freq = FreqDist([_[0] for keyword in find_keyword for _ in okt.pos(keyword) \n",
    "                     if _[0].lower() not in query_list and len(_[0])>1 and pattern.search(_[1])])\n",
    "    return freq"
   ]
  },
  {
   "cell_type": "markdown",
   "metadata": {},
   "source": [
    "# 시각화"
   ]
  },
  {
   "cell_type": "code",
   "execution_count": 27,
   "metadata": {},
   "outputs": [],
   "source": [
    "def draw_wordcloud(freq):\n",
    "    pattern = re.compile(\"^NN|(SL)\")\n",
    "    plt.rcParams.update({'font.size': 10, 'figure.figsize':(14,12)})\n",
    "    for_cld = FreqDist([_[0] for keyword in freq\n",
    "                        for _ in okt.pos(keyword) if pattern.search(_[1]) and _[0] not in query_list and len(_[0])>1])\n",
    "    cld = WordCloud(font_path=\"c:/Windows/Fonts/malgun.ttf\",width=600,height=400,background_color='white',max_words=100)\n",
    "    return cld.generate_from_frequencies(freq).to_image()"
   ]
  },
  {
   "cell_type": "code",
   "execution_count": 43,
   "metadata": {},
   "outputs": [],
   "source": [
    "company_w_pos = get_freq(crawler(q+\" \"+q2,p))"
   ]
  },
  {
   "cell_type": "code",
   "execution_count": 29,
   "metadata": {},
   "outputs": [
    {
     "data": {
      "text/plain": [
       "FreqDist({'전자': 86, '금융': 84, '로봇': 62, '봉사': 53, '활동': 53, '그룹': 49, '이웃': 48, '희망': 47, '여자': 46, '농구': 46, ...})"
      ]
     },
     "execution_count": 29,
     "metadata": {},
     "output_type": "execute_result"
    }
   ],
   "source": [
    "company_w_pos"
   ]
  },
  {
   "cell_type": "code",
   "execution_count": 30,
   "metadata": {},
   "outputs": [
    {
     "data": {
      "image/png": "[encoded data removed]",
      "text/plain": [
       "<PIL.Image.Image image mode=RGB size=600x400 at 0x19B3666CD68>"
      ]
     },
     "execution_count": 30,
     "metadata": {},
     "output_type": "execute_result"
    }
   ],
   "source": [
    "draw_wordcloud(company_w_pos)"
   ]
  },
  {
   "cell_type": "markdown",
   "metadata": {},
   "source": [
    "## query : 회사이름 -직무"
   ]
  },
  {
   "cell_type": "code",
   "execution_count": 32,
   "metadata": {},
   "outputs": [],
   "source": [
    "company_wo_pos = get_freq(crawler(q+\" -\"+q2,p))"
   ]
  },
  {
   "cell_type": "code",
   "execution_count": 39,
   "metadata": {},
   "outputs": [
    {
     "data": {
      "text/plain": [
       "FreqDist({'주가': 126, '한화': 119, '종목': 111, '상승': 103, '+0': 84, '분기': 72, '미래': 67, '오렌지': 61, '동양': 59, '전자': 57, ...})"
      ]
     },
     "execution_count": 39,
     "metadata": {},
     "output_type": "execute_result"
    }
   ],
   "source": [
    "company_wo_pos"
   ]
  },
  {
   "cell_type": "code",
   "execution_count": 34,
   "metadata": {},
   "outputs": [
    {
     "data": {
      "text/plain": [
       "FreqDist({'전자': 86, '금융': 84, '로봇': 62, '봉사': 53, '활동': 53, '그룹': 49, '이웃': 48, '희망': 47, '여자': 46, '농구': 46, ...})"
      ]
     },
     "execution_count": 34,
     "metadata": {},
     "output_type": "execute_result"
    }
   ],
   "source": [
    "company_w_pos"
   ]
  },
  {
   "cell_type": "code",
   "execution_count": 44,
   "metadata": {
    "scrolled": false
   },
   "outputs": [
    {
     "name": "stdout",
     "output_type": "stream",
     "text": [
      "계열사 18 6\n",
      "SI 3 1\n",
      "타깃 5 2\n",
      "남성 1 1\n",
      "차전 6 1\n",
      "고민 3 2\n",
      "물산 5 4\n",
      "매수 2 26\n",
      "투자 19 31\n",
      "증가 2 29\n",
      "봉사 53 2\n",
      "이건희 4 1\n",
      "체결 2 5\n",
      "모집 7 2\n",
      "규제 6 4\n",
      "인기 1 2\n",
      "등장 3 2\n",
      "희망 47 2\n",
      "대회 22 3\n",
      "어린이 4 5\n",
      "캠페인 3 8\n",
      "별세 3 4\n",
      "하나금융투자 1 1\n",
      "작년 4 5\n",
      "시설 5 2\n",
      "문화 3 1\n",
      "차별 2 7\n",
      "동기 5 6\n",
      "생보사 9 34\n",
      "강자 1 2\n",
      "MOU 2 4\n",
      "GA 7 18\n",
      "기차 15 2\n",
      "의혹 3 2\n",
      "대상 6 8\n",
      "인하 1 5\n",
      "업무 7 4\n",
      "진료 2 2\n",
      "연금 25 19\n",
      "5월 15일 2 2\n",
      "우리은행 26 1\n",
      "선수권 6 3\n",
      "활용 6 1\n",
      "거래 2 6\n",
      "영입 2 2\n",
      "종신 3 2\n",
      "모바일 21 2\n",
      "프로 3 4\n",
      "출신 5 2\n",
      "기대 6 3\n",
      "난제 2 4\n",
      "벽화 1 1\n",
      "만원 6 9\n",
      "순위 1 27\n",
      "소식 3 3\n",
      "접수 22 1\n",
      "하이 1 7\n",
      "필수 2 5\n",
      "보급 1 9\n",
      "리바운드 4 1\n",
      "삼바 3 5\n",
      "영동군 1 1\n",
      "LG 1 5\n",
      "포럼 6 2\n",
      "혁신 30 2\n",
      "당기 1 9\n",
      "탄생 3 1\n",
      "오늘 7 1\n",
      "이사 15 2\n",
      "서울 4 4\n",
      "경제 4 1\n",
      "다이렉 6 1\n",
      "사전 1 3\n",
      "고객 7 3\n",
      "감독 9 3\n",
      "선물 2 1\n",
      "클럽 2 11\n",
      "통합 7 4\n",
      "신임 4 1\n",
      "바람 6 6\n",
      "제기 1 3\n",
      "대세 1 4\n",
      "선정 5 6\n",
      "옵션 4 3\n",
      "내정 4 2\n",
      "분리 1 5\n",
      "청주 1 7\n",
      "방식 2 2\n",
      "공시 2 6\n",
      "침체 1 3\n",
      "베트남 1 1\n",
      "BUY 8 8\n",
      "청소년 20 5\n",
      "이유 6 2\n",
      "개최 21 13\n",
      "주식회사 2 3\n",
      "겨냥 1 9\n",
      "마감 4 46\n",
      "전략 11 12\n",
      "바이오 4 15\n",
      "화재 18 31\n",
      "오피스 1 3\n",
      "스타트 6 1\n",
      "카카오 8 3\n",
      "릴레이 2 9\n",
      "사이 1 2\n",
      "작심 1 2\n",
      "외국인 1 2\n",
      "심리 3 5\n",
      "페이 6 1\n",
      "상금 1 2\n",
      "리포트 1 7\n",
      "이익 6 16\n",
      "전지희 1 3\n",
      "변신 2 2\n",
      "공정위 2 1\n",
      "수익률 1 4\n",
      "권희 1 4\n",
      "강세 2 12\n",
      "DB 9 10\n",
      "전달 8 1\n",
      "인수 3 4\n",
      "대우 1 9\n",
      "컨센서스 2 3\n",
      "전력 3 1\n",
      "사도 3 5\n",
      "수익 1 10\n",
      "녹색 1 2\n",
      "업계 19 8\n",
      "생보 7 10\n",
      "외환 2 1\n",
      "진출 10 1\n",
      "간다 1 4\n",
      "완료 1 1\n",
      "피해 1 3\n",
      "증권 13 30\n",
      "출자 4 7\n",
      "세계 25 1\n",
      "모친상 1 1\n",
      "광고 7 5\n",
      "축하 1 3\n",
      "전남 3 2\n",
      "순익 10 17\n",
      "환급 3 1\n",
      "FI 3 3\n",
      "지난해 4 5\n",
      "대표 36 8\n",
      "분식회계 3 3\n",
      "기관 2 2\n",
      "다음 2 5\n",
      "급감 2 5\n",
      "부회장 22 8\n",
      "공개 6 2\n",
      "특약 2 2\n",
      "조성 1 1\n",
      "예방 4 1\n",
      "실적 13 43\n",
      "악화 3 11\n",
      "자동화 2 5\n",
      "호조 1 6\n",
      "보관 5 10\n",
      "현재 5 10\n",
      "운용 1 4\n",
      "행사 2 10\n",
      "영업 13 31\n",
      "보유 2 3\n",
      "카드사 2 2\n",
      "검사 15 33\n",
      "반도체 1 1\n",
      "여력 3 6\n",
      "셀트리온 1 5\n",
      "유튜브 2 2\n",
      "영상 1 2\n",
      "확충 2 1\n",
      "관리 5 7\n",
      "소송 10 7\n",
      "1년 3 6\n",
      "업체 1 3\n",
      "시작 33 2\n",
      "지역 1 7\n",
      "대형 3 4\n",
      "공익 7 8\n",
      "요청 1 2\n",
      "결승 3 1\n",
      "경기 3 1\n",
      "압도 1 1\n",
      "신뢰 1 2\n",
      "4년 4 1\n",
      "공헌 10 6\n",
      "미니 4 1\n",
      "확보 3 2\n",
      "유지 3 29\n",
      "가치 5 5\n",
      "회계 2 2\n",
      "보호 1 6\n",
      "체력 1 1\n",
      "현대해상 3 7\n",
      "농약 6 10\n",
      "계열 2 1\n",
      "재계 2 2\n",
      "변화 5 2\n",
      "열풍 2 1\n",
      "여파 2 3\n",
      "SK 2 12\n",
      "발표 3 4\n",
      "돌입 1 2\n",
      "현대차 8 12\n",
      "농협 4 7\n",
      "개발 4 2\n",
      "테크 9 2\n",
      "리츠 7 17\n",
      "이달 2 3\n",
      "치매 6 3\n",
      "의전 1 5\n",
      "기반 8 4\n",
      "금융사 2 2\n",
      "동양 4 59\n",
      "NHN 1 2\n",
      "불황 5 2\n",
      "신기술 3 2\n",
      "비판 1 3\n",
      "대통령 2 4\n",
      "입원 1 1\n",
      "분쟁 3 5\n",
      "자본 6 6\n",
      "사람 3 6\n",
      "고령 1 2\n",
      "하나 1 4\n",
      "하락 7 25\n",
      "관련 1 12\n",
      "점프 1 1\n",
      "세미나 3 1\n",
      "손보사 1 3\n",
      "눈길 4 5\n",
      "약세 1 7\n",
      "사장 43 14\n",
      "전년 6 32\n",
      "필요 4 1\n",
      "자살 7 1\n",
      "현장 2 1\n",
      "대구 1 1\n",
      "가격 1 9\n",
      "축제 2 12\n",
      "도입 18 3\n",
      "문재인 1 2\n",
      "키워드 3 2\n",
      "국민연금 2 2\n",
      "사가 2 2\n",
      "현대 1 4\n",
      "인사 16 2\n",
      "신한은행 17 3\n",
      "자산 1 5\n",
      "전국 6 8\n",
      "개입 1 2\n",
      "힐링 4 6\n",
      "매도 1 6\n",
      "지배 7 2\n",
      "전망 1 7\n",
      "김용범 1 1\n",
      "성공 4 2\n",
      "17 2 5\n",
      "배당 4 6\n",
      "복식 1 3\n",
      "하반기 13 8\n",
      "연봉 11 2\n",
      "개월 1 1\n",
      "KDB 4 7\n",
      "김나연 2 1\n",
      "AIA 3 1\n",
      "재단 29 27\n",
      "책임 4 4\n",
      "VS 9 8\n",
      "전자 86 57\n",
      "최다 8 2\n",
      "개인 5 2\n",
      "토막 3 4\n",
      "대비 6 23\n",
      "대기업 2 4\n",
      "급락 1 3\n",
      "손보 7 2\n",
      "로봇 62 7\n",
      "자회사 8 5\n",
      "꼴찌 1 3\n",
      "IPO 12 1\n",
      "차세대 4 2\n",
      "저출산 2 2\n",
      "교육 1 1\n",
      "결정 3 3\n",
      "구조 9 2\n",
      "국민은행 8 3\n",
      "코스 5 51\n",
      "사업 25 4\n",
      "10년 3 2\n",
      "인상 1 2\n",
      "장기 2 1\n",
      "브랜드 2 4\n",
      "약관 5 5\n",
      "카드 34 14\n",
      "우체국 1 1\n",
      "증시 1 17\n",
      "손해 5 25\n",
      "스타 1 1\n",
      "은행 10 6\n",
      "논란 3 4\n",
      "내부 2 1\n",
      "조정 1 7\n",
      "오너 1 2\n",
      "상담 3 2\n",
      "충북 2 3\n",
      "KB 27 10\n",
      "즉시 20 6\n",
      "마케팅 3 1\n",
      "추진 13 4\n",
      "정리 1 1\n",
      "주식 8 25\n",
      "성장 7 4\n",
      "NH 4 6\n",
      "미래 19 67\n",
      "수상 3 3\n",
      "호흡 1 3\n",
      "신한 10 20\n",
      "돌파 8 4\n",
      "역량 4 3\n",
      "종합 25 38\n",
      "데이터 4 5\n",
      "라이 1 16\n",
      "소비자 3 13\n",
      "후퇴 3 1\n",
      "강화 12 2\n",
      "만덕 4 1\n",
      "사형 2 9\n",
      "자립 3 1\n",
      "희비 2 5\n",
      "시간 5 4\n",
      "존중 2 3\n",
      "목표 8 13\n",
      "전면 2 1\n",
      "취임 3 1\n",
      "부진 6 11\n",
      "자체 5 1\n",
      "저축 5 2\n",
      "법인 5 1\n",
      "사회 13 6\n",
      "IFRS 3 6\n",
      "전용 2 4\n",
      "시도 2 1\n",
      "그룹 49 3\n",
      "SK이노베이션 1 1\n",
      "해외 10 4\n",
      "사업비 3 2\n",
      "부활 1 1\n",
      "신한금융투자 1 3\n",
      "최영 1 2\n",
      "고용 3 2\n",
      "보도 1 1\n",
      "성과 3 1\n",
      "신청 3 3\n",
      "협업 2 2\n",
      "개소 4 1\n",
      "최대 8 3\n",
      "PCA 2 2\n",
      "올해 18 4\n",
      "부동산 1 4\n",
      "퇴직 5 3\n",
      "중심 4 1\n",
      "검토 3 5\n",
      "생보업 3 8\n",
      "프리 1 3\n",
      "감소 4 5\n",
      "정보 2 33\n",
      "인식 1 2\n",
      "체질 1 1\n",
      "보장 16 23\n",
      "처리 3 1\n",
      "비중 1 3\n",
      "딜레마 2 2\n",
      "금감원 24 36\n",
      "회피 2 2\n",
      "현대중공업 2 5\n",
      "사랑 43 14\n",
      "우려 3 4\n",
      "가지 1 3\n",
      "분석 11 6\n",
      "착수 1 5\n",
      "핀테크 8 6\n",
      "자산운용 1 3\n",
      "가입 22 7\n",
      "출발 1 10\n",
      "남은 1 1\n",
      "직원 3 3\n",
      "한화 39 119\n",
      "연구 1 3\n",
      "자금 1 2\n",
      "스포츠 1 2\n",
      "개선 2 8\n",
      "롯데 3 11\n",
      "상위 1 38\n",
      "본부 1 1\n",
      "NH투자증권 4 1\n",
      "발목 1 1\n",
      "경영 15 12\n",
      "지주 4 8\n",
      "지급 5 9\n",
      "신설 1 1\n",
      "주문 7 3\n",
      "확대 5 13\n",
      "병원 1 3\n",
      "금리 1 6\n",
      "판매 2 12\n",
      "친환경 1 2\n",
      "리스크 1 2\n",
      "국내 5 12\n",
      "상품 7 4\n",
      "건전 1 2\n",
      "실시 13 4\n",
      "박차 2 1\n",
      "투명 2 2\n",
      "한국 15 11\n",
      "손익 1 2\n",
      "저금리 2 6\n",
      "견인 1 9\n",
      "코스트코 1 2\n",
      "신탁 1 3\n",
      "연기 1 2\n",
      "상장 6 4\n",
      "시장 15 8\n",
      "평가 2 9\n",
      "집중 4 1\n",
      "글로벌 4 7\n",
      "연간 1 2\n",
      "지분 13 5\n",
      "센터 7 9\n",
      "롯데카드 1 3\n",
      "압박 6 3\n",
      "연속 3 3\n",
      "안전 5 10\n",
      "OK 3 1\n",
      "추가 4 7\n",
      "이재용 8 10\n",
      "주도 1 8\n",
      "기업 14 10\n",
      "가구 2 5\n",
      "점검 2 1\n",
      "진행 8 10\n",
      "출시 12 5\n",
      "호텔신라 1 3\n",
      "설계사 4 2\n",
      "해지 3 1\n",
      "연결 6 7\n",
      "노인 2 2\n",
      "주가 5 126\n",
      "리더 1 2\n",
      "지원 21 8\n",
      "운영 2 4\n",
      "계약 3 13\n",
      "분기 8 72\n",
      "행보 2 3\n",
      "규모 5 3\n",
      "수주 1 1\n",
      "유일 1 3\n",
      "벤처 3 7\n",
      "핵심 2 4\n",
      "조달 1 4\n",
      "종규 1 1\n",
      "경쟁 4 5\n",
      "대출 7 11\n",
      "마을 3 2\n",
      "최종 7 2\n",
      "순이익 3 16\n",
      "탁구 28 18\n",
      "헬스 2 3\n",
      "맞대결 3 1\n",
      "공격 2 1\n",
      "먹구름 2 1\n",
      "채널 3 3\n",
      "코스닥 3 36\n",
      "비율 3 11\n",
      "라운드 3 1\n",
      "내년 12 1\n",
      "금융 84 17\n",
      "임원 14 2\n",
      "재벌 1 2\n"
     ]
    }
   ],
   "source": [
    "for key, value in company_w_pos.items():\n",
    "    if key in company_wo_pos.keys():\n",
    "#         print(key,company_w_pos[key],company_wo_pos[key])\n",
    "        company_w_pos[key] = company_w_pos[key] - company_wo_pos[key]"
   ]
  },
  {
   "cell_type": "code",
   "execution_count": 46,
   "metadata": {
    "scrolled": false
   },
   "outputs": [
    {
     "data": {
      "image/png": "[encoded data removed]",
      "text/plain": [
       "<PIL.Image.Image image mode=RGB size=600x400 at 0x19B36A4BC88>"
      ]
     },
     "execution_count": 46,
     "metadata": {},
     "output_type": "execute_result"
    }
   ],
   "source": [
    "draw_wordcloud(company_w_pos)"
   ]
  },
  {
   "cell_type": "markdown",
   "metadata": {},
   "source": [
    "## 동종회사"
   ]
  },
  {
   "cell_type": "code",
   "execution_count": null,
   "metadata": {},
   "outputs": [],
   "source": [
    "company_friends"
   ]
  },
  {
   "cell_type": "code",
   "execution_count": null,
   "metadata": {},
   "outputs": [],
   "source": [
    "friends_news_list = []\n",
    "for comp in company_friends: \n",
    "    news = []\n",
    "    for page in range(1,p+1):\n",
    "        url = download(\"https://search.daum.net/search\",params={\"w\":\"news\",\"q\":comp+\" \"+q2,\"cluster\":\"y\",\"p\":str(page)})\n",
    "        dom = BeautifulSoup(url.text,\"lxml\")\n",
    "        news += [clean_title(_.text,query_list) for _ in dom.select(\"article .wrap_tit.mg_tit a\")]\n",
    "    friends_news_list += [news]"
   ]
  },
  {
   "cell_type": "code",
   "execution_count": null,
   "metadata": {},
   "outputs": [],
   "source": []
  },
  {
   "cell_type": "code",
   "execution_count": null,
   "metadata": {},
   "outputs": [],
   "source": [
    "def cleansing(list_1d, query_list):\n",
    "    find_keyword = [_.upper().strip() for _ in list_1d  if _.strip() != \"\"]\n",
    "    freq = FreqDist([_ for keyword in find_keyword for _ in okt.pos(keyword) if _[0] not in query_list and pattern.search(_[1])])\n",
    "    freq = FreqDist([_[0] for keyword in find_keyword for _ in okt.pos(keyword) \n",
    "                           if _[0] not in query_list and len(_[0])>1 and pattern.search(_[1])])\n",
    "    return freq"
   ]
  },
  {
   "cell_type": "code",
   "execution_count": null,
   "metadata": {},
   "outputs": [],
   "source": [
    "name_w_friends = [q]+company_friends\n",
    "news_w_friends = [news_list] + friends_news_list"
   ]
  },
  {
   "cell_type": "code",
   "execution_count": null,
   "metadata": {},
   "outputs": [],
   "source": [
    "zipper = list(zip(name_w_friends, news_w_friends))"
   ]
  },
  {
   "cell_type": "code",
   "execution_count": null,
   "metadata": {},
   "outputs": [],
   "source": [
    "cleansing(zipper[0][1],zipper[0][0]),"
   ]
  },
  {
   "cell_type": "code",
   "execution_count": null,
   "metadata": {},
   "outputs": [],
   "source": [
    "freq_list = []\n",
    "for name, news in zipper:\n",
    "    freq_list.append(cleansing(news,name))"
   ]
  },
  {
   "cell_type": "code",
   "execution_count": null,
   "metadata": {},
   "outputs": [],
   "source": [
    "freq_w_friends = [freq] + freq_list"
   ]
  },
  {
   "cell_type": "code",
   "execution_count": null,
   "metadata": {},
   "outputs": [],
   "source": [
    "def lfd():\n",
    "    return defaultdict(float)\n",
    "\n",
    "def ld():\n",
    "    return defaultdict(int)"
   ]
  },
  {
   "cell_type": "code",
   "execution_count": null,
   "metadata": {},
   "outputs": [],
   "source": [
    "from math import log2"
   ]
  },
  {
   "cell_type": "code",
   "execution_count": null,
   "metadata": {},
   "outputs": [],
   "source": [
    "tf = defaultdict(lfd)\n",
    "df = defaultdict(int)\n",
    "N = len(freq_w_friends)\n",
    "maxtf = defaultdict(int)\n",
    "i = 0 \n",
    "for document in freq_w_friends:\n",
    "    maxtf[i] = max(document.values())\n",
    "    for term, freq in document.items():\n",
    "        tf[i][term] = (freq) / maxtf[i] \n",
    "        df[term] += 1\n",
    "    i += 1\n",
    "idf = {term:(1+log2(N/freq)) for term, freq in df.items()}"
   ]
  },
  {
   "cell_type": "code",
   "execution_count": null,
   "metadata": {},
   "outputs": [],
   "source": [
    "tfidf = defaultdict(ld)\n",
    "i = 0 \n",
    "for document in freq_w_friends:\n",
    "    for term, freq in document.items():\n",
    "        tfidf[i][term] = tf[i][term] * idf[term]\n",
    "    i += 1"
   ]
  },
  {
   "cell_type": "code",
   "execution_count": null,
   "metadata": {},
   "outputs": [],
   "source": [
    "tfidf.keys()"
   ]
  },
  {
   "cell_type": "code",
   "execution_count": null,
   "metadata": {},
   "outputs": [],
   "source": [
    "cld = WordCloud(font_path=\"c:/Windows/Fonts/malgun.ttf\",width=600,height=400,background_color='white',max_words=50)\n",
    "cld.generate_from_frequencies(tfidf[0]).to_image()"
   ]
  },
  {
   "cell_type": "code",
   "execution_count": null,
   "metadata": {},
   "outputs": [],
   "source": []
  }
 ],
 "metadata": {
  "kernelspec": {
   "display_name": "Python 3",
   "language": "python",
   "name": "python3"
  },
  "language_info": {
   "codemirror_mode": {
    "name": "ipython",
    "version": 3
   },
   "file_extension": ".py",
   "mimetype": "text/x-python",
   "name": "python",
   "nbconvert_exporter": "python",
   "pygments_lexer": "ipython3",
   "version": "3.5.6"
  }
 },
 "nbformat": 4,
 "nbformat_minor": 2
}
