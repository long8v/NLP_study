{
 "cells": [
  {
   "cell_type": "code",
   "execution_count": null,
   "metadata": {},
   "outputs": [],
   "source": [
    "from bs4 import BeautifulSoup\n",
    "from downloads import *\n",
    "import requests\n",
    "import time\n",
    "import urllib\n",
    "import os\n",
    "from nltk.probability import FreqDist\n",
    "from NLP import * \n",
    "import numpy as np\n",
    "import pandas as pd\n",
    "import seaborn as sns\n",
    "import matplotlib \n",
    "import matplotlib.pyplot as plt\n",
    "import matplotlib.font_manager as fm\n",
    "font_setting()"
   ]
  },
  {
   "cell_type": "code",
   "execution_count": null,
   "metadata": {},
   "outputs": [],
   "source": [
    "q=input(\"지원하시는 회사의 이름을 기재해주세요\\t\")\n",
    "q2=input(\"지원하는 회사의 직무를 기재해주세요\\t\")\n",
    "try:\n",
    "    p=int(input(\"몇 페이지까지 검색할까요?\\t\\t\"))\n",
    "except:\n",
    "    p=10\n",
    "q3=input(\"공고에 직무에 대한 설명이 있다면 키워드 중심으로 같이 써주세요(없을 시 공란으로 두세요)\\t\")"
   ]
  },
  {
   "cell_type": "code",
   "execution_count": null,
   "metadata": {},
   "outputs": [],
   "source": [
    "news_list=[]\n",
    "for page in range(1,p+1):\n",
    "    url=download(\"https://search.daum.net/search\",params={\"w\":\"news\",\"q\":q+\" \"+q2,\"cluster\":\"y\",\"p\":str(page)})\n",
    "    dom=BeautifulSoup(url.text,\"lxml\")\n",
    "    news_list+=[(_[\"href\"], _.text) for _ in dom.select(\"article .wrap_tit.mg_tit a\")]"
   ]
  },
  {
   "cell_type": "code",
   "execution_count": 292,
   "metadata": {},
   "outputs": [],
   "source": [
    "# import re\n",
    "# pattern=re.compile(\"text|article|txt|Article|News\")\n",
    "# if pattern.search(\"article\"):print(1)"
   ]
  },
  {
   "cell_type": "code",
   "execution_count": 293,
   "metadata": {},
   "outputs": [],
   "source": [
    "# dom.select(\"[class+{0}],[id+{0}]\".format(re.compile(\"text|article|txt|Article|News\")))"
   ]
  },
  {
   "cell_type": "code",
   "execution_count": 294,
   "metadata": {},
   "outputs": [],
   "source": [
    "# dom.select(\"[id+{0}]\".format(pattern))"
   ]
  },
  {
   "cell_type": "code",
   "execution_count": 295,
   "metadata": {},
   "outputs": [],
   "source": [
    "# print([_.text for _ in dom.select(\"[class^={0}],[id^={0}]\".format(pattern))])"
   ]
  },
  {
   "cell_type": "markdown",
   "metadata": {},
   "source": [
    "## 뉴스 솎기"
   ]
  },
  {
   "cell_type": "code",
   "execution_count": 296,
   "metadata": {},
   "outputs": [
    {
     "data": {
      "text/plain": [
       "[('https://cp.news.search.daum.net/p/79756322',\n",
       "  '[보험업무 RPA 시대-삼성생명]도입 6개월만에 안착 연 2만4000시간 ...'),\n",
       " ('http://v.media.daum.net/v/20190417143329712?f=o',\n",
       "  '로봇에 업무 맡기니 2만 시간 절약..삼성생명의 디지털 혁신'),\n",
       " ('https://cp.news.search.daum.net/p/79811253',\n",
       "  '\"우리가 남이가?\" 삼성생명, 삼성전자-제일기획 팔고 ‘삼성바이오...'),\n",
       " ('http://v.media.daum.net/v/20190417101206118?f=o',\n",
       "  '삼성생명, RPA 정착으로 디지털혁신 가속화'),\n",
       " ('https://cp.news.search.daum.net/p/78534934', '삼성생명 현성철號, 디지털혁신 성과 가시화'),\n",
       " ('http://v.media.daum.net/v/20190417182112681?f=o',\n",
       "  '삼성생명, 로봇 프로세스 자동화로 업무시간 단축'),\n",
       " ('http://v.media.daum.net/v/20190515092102660?f=o',\n",
       "  '삼성생명, 1분기 순익 4473억원..전년 대비 14.7%↑'),\n",
       " ('http://v.media.daum.net/v/20190509083900768?f=o',\n",
       "  '삼성생명 \"생명사랑 릴레이로 자살 예방 기부하세요\"'),\n",
       " ('https://cp.news.search.daum.net/p/78542156', '삼성생명, RPA 정착...연 2만4천시간 절약'),\n",
       " ('http://v.media.daum.net/v/20190507103000743?f=o',\n",
       "  \"삼성생명, 총 5000만원 상금 '제1회 전국 탁구클럽 대축제' 개최\"),\n",
       " ('https://cp.news.search.daum.net/p/78532522',\n",
       "  '삼성생명, ‘PRA 프로젝트’ 6개월...연간 2만4000시간 절약'),\n",
       " ('https://cp.news.search.daum.net/p/78534409',\n",
       "  \"삼성생명, 로봇 'RPA' 도입 반년 만에 연 2만4000시간 절약\"),\n",
       " ('http://v.media.daum.net/v/20190424060021137?f=o',\n",
       "  \"[CEO가 뛴다-32] 현성철 삼성생명 사장, 글로벌 일류 도약 '5대 플...\"),\n",
       " ('https://cp.news.search.daum.net/p/78545533',\n",
       "  '\\u200b삼성생명, 단순업무에 RPA 도입해 연간 2만 시간 절약'),\n",
       " ('https://cp.news.search.daum.net/p/78529761', '삼성생명 \"RPA 도입후 2만4000시간 절약\"'),\n",
       " ('http://v.media.daum.net/v/20190520103300854?f=o',\n",
       "  \"우정사업본부, '우체국 뉴스룸24' 통해 국민과 친근한 소통\"),\n",
       " ('https://cp.news.search.daum.net/p/78557066',\n",
       "  '삼성생명 “RPA 도입 6개월만에 年 2만4000시간 절약”'),\n",
       " ('http://v.media.daum.net/v/20190512104533601?f=o',\n",
       "  '보험의 디지털 혁신 만드는 디레몬..\"마이데이터 시대 이끈다\"'),\n",
       " ('http://v.media.daum.net/v/20190417160528338?f=o',\n",
       "  '삼성생명 로봇 자동화 도입 6개월..연 2만4,000시간 절약'),\n",
       " ('http://v.media.daum.net/v/20190417175704926?f=o',\n",
       "  '삼성생명, 업무자동화로 年 24,000시간 절약'),\n",
       " ('http://v.media.daum.net/v/20190305113148200?f=o',\n",
       "  \"삼성생명 '청소년 미술대회' 첫 디지털 심사\"),\n",
       " ('http://v.media.daum.net/v/20190508135613655?f=o',\n",
       "  '\"삼성이 생각하는 디지털 전환은\"..삼성SDS, 8년만에 대형 IT 콘퍼런스'),\n",
       " ('https://cp.news.search.daum.net/p/79756321',\n",
       "  '[보험업무 RPA 시대]주 52시간제 발맞춰 보험사도 ‘RPA 시스템’으...'),\n",
       " ('http://v.media.daum.net/v/20190516100024327?f=o',\n",
       "  '\"약관 어렵게 써놓고 책임회피\"..보험사 작심비판한 윤석헌'),\n",
       " ('http://v.media.daum.net/v/20190518110204069?f=o',\n",
       "  \"'개인 맞춤형' 헬스케어 서비스 늘리는 보험사들\"),\n",
       " ('http://v.media.daum.net/v/20190418093601837?f=o', '삼성생명, 보장금액 증액서비스 실시'),\n",
       " ('https://cp.news.search.daum.net/p/79756125', \"특집-업무 자동화 '바람'‧‧‧올해 더 거세다\"),\n",
       " ('https://cp.news.search.daum.net/p/77344479',\n",
       "  '내달 14일 삼성 GSAT ...삼성생명 등 금융계열사 디지털 금융직 눈길'),\n",
       " ('https://cp.news.search.daum.net/p/79002479',\n",
       "  \"주52시간제 두 달 남은 보험업계…'RPA'가 해답?\"),\n",
       " ('http://v.media.daum.net/v/20190513084804549?f=o',\n",
       "  \"'변해야 산다' 보험 CEO '인슈어테크' 혁신 바람-로봇이 보험심사·...\"),\n",
       " ('http://v.media.daum.net/v/20190515113001532?f=o',\n",
       "  '보험사 해외 인수합병 확대 조건..\"채권 등 자금조달 규제 완화해야\"'),\n",
       " ('http://v.media.daum.net/v/20190513104002038?f=o',\n",
       "  \"원광디지털대, '술수학 포럼 2019' 개최\"),\n",
       " ('https://cp.news.search.daum.net/p/79640291',\n",
       "  '김정남 DB손해보험 사장 디지털 혁신…내년 1월부터 AI설계사 보험...'),\n",
       " ('https://cp.news.search.daum.net/p/79739243',\n",
       "  '[부음] 백윤기 모친, 서민석 부친, 한효진 부친, 손권희'),\n",
       " ('https://cp.news.search.daum.net/p/78269446', '삼성생명, 비대면 실명인증 서비스 도입'),\n",
       " ('https://cp.news.search.daum.net/p/79635632',\n",
       "  \"차남규·여승주 이끄는 한화생명, '생보 2위' 지위 '먹구름'\"),\n",
       " ('https://cp.news.search.daum.net/p/79743199',\n",
       "  '보험사들 저출산·저금리·규제 여파 순이익 급감, 1분기 순익 올해...'),\n",
       " ('http://v.media.daum.net/v/20190322040617333?f=o',\n",
       "  '[미래금융] 삼성생명, 보험약관 문자로..AI챗봇이 대출상담'),\n",
       " ('https://cp.news.search.daum.net/p/78844887',\n",
       "  'DB손보·KB손보·삼성생명…‘보험사 RPA 도입’ 기대와 우려'),\n",
       " ('https://cp.news.search.daum.net/p/79499140', '보험·카드사도 로봇 바람…RPA 도입 박차'),\n",
       " ('https://cp.news.search.daum.net/p/78816655',\n",
       "  \"삼성전자, QLED 8K TV 삼성생명 '청소년 미술대회' 심사 활용\"),\n",
       " ('https://cp.news.search.daum.net/p/79801669',\n",
       "  '[금요칼럼] 스마트 서비스(Smart Service)로 초 연결(hyper-connect...'),\n",
       " ('https://cp.news.search.daum.net/p/79477288',\n",
       "  '(대한민국 재벌 신뢰지수) KB국민은행, 2년 연속 신뢰하는 은행 1위'),\n",
       " ('https://cp.news.search.daum.net/p/79655392',\n",
       "  '윤석헌 \"국내 금융포용 미흡…분쟁 적극 대응\"(종합)'),\n",
       " ('http://v.media.daum.net/v/20190418171549209?f=o',\n",
       "  \"보험사 취업, 직무이해 높고 '핀테크'까지 갖추면 금상첨화\"),\n",
       " ('https://cp.news.search.daum.net/p/79424938',\n",
       "  '[동국대·상생과통일포럼 리더십 최고위과정 8기 ⑩강] 박용진 “시...'),\n",
       " ('https://cp.news.search.daum.net/p/79620058', '5월 15일 주요공시'),\n",
       " ('https://cp.news.search.daum.net/p/79412924',\n",
       "  '[보험사 이모저모] \"단순·반복 업무는 가라!\"…RPA바람'),\n",
       " ('http://v.media.daum.net/v/20190328170122630?f=o',\n",
       "  \"[2019 대한민국 파워기업 50] 삼성생명, '혁신'으로 업계 불황 넘는다\"),\n",
       " ('https://cp.news.search.daum.net/p/77565139', '삼성생명, 새 먹거리 인슈어테크에 ‘통 큰 투자’')]"
      ]
     },
     "execution_count": 296,
     "metadata": {},
     "output_type": "execute_result"
    }
   ],
   "source": [
    "news_list"
   ]
  },
  {
   "cell_type": "code",
   "execution_count": 297,
   "metadata": {},
   "outputs": [],
   "source": [
    "title=[title for link,title in news_list]"
   ]
  },
  {
   "cell_type": "code",
   "execution_count": 298,
   "metadata": {},
   "outputs": [
    {
     "data": {
      "text/plain": [
       "50"
      ]
     },
     "execution_count": 298,
     "metadata": {},
     "output_type": "execute_result"
    }
   ],
   "source": [
    "len(title)"
   ]
  },
  {
   "cell_type": "code",
   "execution_count": 422,
   "metadata": {},
   "outputs": [
    {
     "ename": "ValueError",
     "evalue": "too many values to unpack (expected 2)",
     "output_type": "error",
     "traceback": [
      "\u001b[1;31m---------------------------------------------------------------------------\u001b[0m",
      "\u001b[1;31mValueError\u001b[0m                                Traceback (most recent call last)",
      "\u001b[1;32m<ipython-input-422-84ea6d79751c>\u001b[0m in \u001b[0;36m<module>\u001b[1;34m()\u001b[0m\n\u001b[1;32m----> 1\u001b[1;33m \u001b[0mtitle\u001b[0m\u001b[1;33m=\u001b[0m\u001b[1;33m[\u001b[0m\u001b[0mtitle\u001b[0m \u001b[1;32mfor\u001b[0m \u001b[0mlink\u001b[0m\u001b[1;33m,\u001b[0m\u001b[0mtitle\u001b[0m \u001b[1;32min\u001b[0m \u001b[0mnews_list\u001b[0m\u001b[1;33m]\u001b[0m\u001b[1;33m\u001b[0m\u001b[0m\n\u001b[0m\u001b[0;32m      2\u001b[0m \u001b[0mdist\u001b[0m\u001b[1;33m=\u001b[0m\u001b[1;33m[\u001b[0m\u001b[1;33m]\u001b[0m\u001b[1;33m\u001b[0m\u001b[0m\n\u001b[0;32m      3\u001b[0m \u001b[1;32mimport\u001b[0m \u001b[0mtextdistance\u001b[0m\u001b[1;33m\u001b[0m\u001b[0m\n\u001b[0;32m      4\u001b[0m \u001b[1;32mfor\u001b[0m \u001b[0mi\u001b[0m \u001b[1;32min\u001b[0m \u001b[0mrange\u001b[0m\u001b[1;33m(\u001b[0m\u001b[0mlen\u001b[0m\u001b[1;33m(\u001b[0m\u001b[0mtitle\u001b[0m\u001b[1;33m)\u001b[0m\u001b[1;33m)\u001b[0m\u001b[1;33m:\u001b[0m\u001b[1;33m\u001b[0m\u001b[0m\n\u001b[0;32m      5\u001b[0m     \u001b[1;32mfor\u001b[0m \u001b[0m_\u001b[0m \u001b[1;32min\u001b[0m \u001b[0mtitle\u001b[0m\u001b[1;33m[\u001b[0m\u001b[0mi\u001b[0m\u001b[1;33m:\u001b[0m\u001b[1;33m]\u001b[0m\u001b[1;33m:\u001b[0m\u001b[1;33m\u001b[0m\u001b[0m\n",
      "\u001b[1;32m<ipython-input-422-84ea6d79751c>\u001b[0m in \u001b[0;36m<listcomp>\u001b[1;34m(.0)\u001b[0m\n\u001b[1;32m----> 1\u001b[1;33m \u001b[0mtitle\u001b[0m\u001b[1;33m=\u001b[0m\u001b[1;33m[\u001b[0m\u001b[0mtitle\u001b[0m \u001b[1;32mfor\u001b[0m \u001b[0mlink\u001b[0m\u001b[1;33m,\u001b[0m\u001b[0mtitle\u001b[0m \u001b[1;32min\u001b[0m \u001b[0mnews_list\u001b[0m\u001b[1;33m]\u001b[0m\u001b[1;33m\u001b[0m\u001b[0m\n\u001b[0m\u001b[0;32m      2\u001b[0m \u001b[0mdist\u001b[0m\u001b[1;33m=\u001b[0m\u001b[1;33m[\u001b[0m\u001b[1;33m]\u001b[0m\u001b[1;33m\u001b[0m\u001b[0m\n\u001b[0;32m      3\u001b[0m \u001b[1;32mimport\u001b[0m \u001b[0mtextdistance\u001b[0m\u001b[1;33m\u001b[0m\u001b[0m\n\u001b[0;32m      4\u001b[0m \u001b[1;32mfor\u001b[0m \u001b[0mi\u001b[0m \u001b[1;32min\u001b[0m \u001b[0mrange\u001b[0m\u001b[1;33m(\u001b[0m\u001b[0mlen\u001b[0m\u001b[1;33m(\u001b[0m\u001b[0mtitle\u001b[0m\u001b[1;33m)\u001b[0m\u001b[1;33m)\u001b[0m\u001b[1;33m:\u001b[0m\u001b[1;33m\u001b[0m\u001b[0m\n\u001b[0;32m      5\u001b[0m     \u001b[1;32mfor\u001b[0m \u001b[0m_\u001b[0m \u001b[1;32min\u001b[0m \u001b[0mtitle\u001b[0m\u001b[1;33m[\u001b[0m\u001b[0mi\u001b[0m\u001b[1;33m:\u001b[0m\u001b[1;33m]\u001b[0m\u001b[1;33m:\u001b[0m\u001b[1;33m\u001b[0m\u001b[0m\n",
      "\u001b[1;31mValueError\u001b[0m: too many values to unpack (expected 2)"
     ]
    }
   ],
   "source": [
    "title=[title for link,title in news_list]\n",
    "dist=[]\n",
    "import textdistance\n",
    "for i in range(len(title)):\n",
    "    for _ in title[i:]:\n",
    "        dist=textdistance.hamming.normalized_similarity(_,title[i])\n",
    "        if dist>0.2 and dist<1:\n",
    "            title[i]=np.nan\n",
    "            print(title[i],_)\n",
    "            break\n",
    "# textdistance.hamming('text', 'test')\n",
    "# textdistance.hamming.normalized_similarity('text', 'test')\n",
    "# textdistance.hamming('arrow', 'arow')textdistance.hamming.normalized_similarity('arrow', 'arow')"
   ]
  },
  {
   "cell_type": "code",
   "execution_count": 300,
   "metadata": {},
   "outputs": [],
   "source": [
    "news_list=pd.DataFrame({\"title\":title,\"link\":[link for link,_ in news_list]}).dropna().reset_index().drop(\"index\",1)"
   ]
  },
  {
   "cell_type": "code",
   "execution_count": 301,
   "metadata": {
    "scrolled": true
   },
   "outputs": [],
   "source": [
    "# for link, title in news_list:\n",
    "#     url = download(link)\n",
    "#     dom = BeautifulSoup(url.text,\"lxml\")\n",
    "#     if dom.select(\"#articletxt\"): # 한국 경제\n",
    "#         print([_.text for _ in dom.select(\"#articletxt\")])\n",
    "#     elif dom.select(\"#articleBody p\"):# 아이뉴스 \n",
    "#         print(dom.select(\"#articleBody p\"))\n",
    "#     elif dom.select(\"#divNewsContent\"):\n",
    "#         print([_.text for _ in dom.select(\"#divNewsContent\")])\n",
    "#     elif dom.select(\"#articleText\"):\n",
    "#         print([_.text for _ in dom.select(\"#articleText\")]) # 헤럴드경제\n",
    "#     elif dom.select(\"#articleBody\"):\n",
    "#         print([_.text for _ in dom.select(\"#articleBody\")]) # 전자신문"
   ]
  },
  {
   "cell_type": "markdown",
   "metadata": {},
   "source": [
    "## 링크 타고들어가서 뉴스 가져오기"
   ]
  },
  {
   "cell_type": "code",
   "execution_count": 398,
   "metadata": {},
   "outputs": [],
   "source": [
    "css_codes=[\"#articletxt\",\"#articleBody p\",\"#divNewsContent\",\"#articleText\",\"tbody b\",\"#textBody\",\"#news_body_area_contents\", \"body_news\"]"
   ]
  },
  {
   "cell_type": "code",
   "execution_count": 399,
   "metadata": {},
   "outputs": [
    {
     "data": {
      "text/plain": [
       "32"
      ]
     },
     "execution_count": 399,
     "metadata": {},
     "output_type": "execute_result"
    }
   ],
   "source": [
    "len(news_list)"
   ]
  },
  {
   "cell_type": "code",
   "execution_count": 400,
   "metadata": {},
   "outputs": [
    {
     "data": {
      "text/plain": [
       "0     http://v.media.daum.net/v/20190417143329712?f=o\n",
       "1          https://cp.news.search.daum.net/p/79811253\n",
       "2     http://v.media.daum.net/v/20190520103300854?f=o\n",
       "3          https://cp.news.search.daum.net/p/78557066\n",
       "4     http://v.media.daum.net/v/20190512104533601?f=o\n",
       "5     http://v.media.daum.net/v/20190508135613655?f=o\n",
       "6          https://cp.news.search.daum.net/p/79756321\n",
       "7     http://v.media.daum.net/v/20190516100024327?f=o\n",
       "8     http://v.media.daum.net/v/20190518110204069?f=o\n",
       "9          https://cp.news.search.daum.net/p/79756125\n",
       "10         https://cp.news.search.daum.net/p/77344479\n",
       "11         https://cp.news.search.daum.net/p/79002479\n",
       "12    http://v.media.daum.net/v/20190513084804549?f=o\n",
       "13    http://v.media.daum.net/v/20190515113001532?f=o\n",
       "14    http://v.media.daum.net/v/20190513104002038?f=o\n",
       "15         https://cp.news.search.daum.net/p/79640291\n",
       "16         https://cp.news.search.daum.net/p/79739243\n",
       "17         https://cp.news.search.daum.net/p/79635632\n",
       "18         https://cp.news.search.daum.net/p/79743199\n",
       "19    http://v.media.daum.net/v/20190322040617333?f=o\n",
       "20         https://cp.news.search.daum.net/p/78844887\n",
       "21         https://cp.news.search.daum.net/p/79499140\n",
       "22         https://cp.news.search.daum.net/p/78816655\n",
       "23         https://cp.news.search.daum.net/p/79801669\n",
       "24         https://cp.news.search.daum.net/p/79477288\n",
       "25         https://cp.news.search.daum.net/p/79655392\n",
       "26    http://v.media.daum.net/v/20190418171549209?f=o\n",
       "27         https://cp.news.search.daum.net/p/79424938\n",
       "28         https://cp.news.search.daum.net/p/79620058\n",
       "29         https://cp.news.search.daum.net/p/79412924\n",
       "30    http://v.media.daum.net/v/20190328170122630?f=o\n",
       "31         https://cp.news.search.daum.net/p/77565139\n",
       "Name: link, dtype: object"
      ]
     },
     "execution_count": 400,
     "metadata": {},
     "output_type": "execute_result"
    }
   ],
   "source": [
    "news_list[\"link\"]"
   ]
  },
  {
   "cell_type": "code",
   "execution_count": 401,
   "metadata": {},
   "outputs": [
    {
     "name": "stdout",
     "output_type": "stream",
     "text": [
      "http://v.media.daum.net/v/20190417143329712?f=o\n",
      "#textBody\n",
      "https://cp.news.search.daum.net/p/79811253\n",
      "#news_body_area_contents\n",
      "http://v.media.daum.net/v/20190520103300854?f=o\n",
      "https://cp.news.search.daum.net/p/78557066\n",
      "http://v.media.daum.net/v/20190512104533601?f=o\n",
      "3\n",
      "2\n",
      "1\n",
      "500\n",
      "Internal Server Error\n",
      "{'Date': 'Tue, 21 May 2019 06:18:03 GMT', 'Content-Type': 'text/html', 'Content-Length': '1160', 'X-Powered-By': 'ASP.NET', 'Server': 'Microsoft-IIS/7.5'}\n",
      "http://v.media.daum.net/v/20190508135613655?f=o\n",
      "3\n",
      "2\n",
      "1\n",
      "500\n",
      "Internal Server Error\n",
      "{'Date': 'Tue, 21 May 2019 06:18:04 GMT', 'Content-Type': 'text/html', 'Content-Length': '1160', 'X-Powered-By': 'ASP.NET', 'Server': 'Microsoft-IIS/7.5'}\n",
      "https://cp.news.search.daum.net/p/79756321\n",
      "http://v.media.daum.net/v/20190516100024327?f=o\n",
      "3\n",
      "2\n",
      "1\n",
      "500\n",
      "Internal Server Error\n",
      "{'Date': 'Tue, 21 May 2019 06:18:05 GMT', 'Content-Type': 'text/html', 'Content-Length': '1160', 'X-Powered-By': 'ASP.NET', 'Server': 'Microsoft-IIS/7.5'}\n",
      "http://v.media.daum.net/v/20190518110204069?f=o\n",
      "https://cp.news.search.daum.net/p/79756125\n",
      "https://cp.news.search.daum.net/p/77344479\n",
      "https://cp.news.search.daum.net/p/79002479\n",
      "http://v.media.daum.net/v/20190513084804549?f=o\n",
      "http://v.media.daum.net/v/20190515113001532?f=o\n",
      "http://v.media.daum.net/v/20190513104002038?f=o\n",
      "#articleBody p\n",
      "https://cp.news.search.daum.net/p/79640291\n",
      "https://cp.news.search.daum.net/p/79739243\n",
      "https://cp.news.search.daum.net/p/79635632\n",
      "https://cp.news.search.daum.net/p/79743199\n",
      "http://v.media.daum.net/v/20190322040617333?f=o\n",
      "https://cp.news.search.daum.net/p/78844887\n",
      "https://cp.news.search.daum.net/p/79499140\n",
      "https://cp.news.search.daum.net/p/78816655\n",
      "https://cp.news.search.daum.net/p/79801669\n",
      "https://cp.news.search.daum.net/p/79477288\n",
      "tbody b\n",
      "https://cp.news.search.daum.net/p/79655392\n",
      "http://v.media.daum.net/v/20190418171549209?f=o\n",
      "https://cp.news.search.daum.net/p/79424938\n",
      "https://cp.news.search.daum.net/p/79620058\n",
      "https://cp.news.search.daum.net/p/79412924\n",
      "http://v.media.daum.net/v/20190328170122630?f=o\n",
      "#textBody\n",
      "https://cp.news.search.daum.net/p/77565139\n"
     ]
    }
   ],
   "source": [
    "news=[]\n",
    "for link in news_list[\"link\"]:\n",
    "    print(link)\n",
    "    url = download(link)\n",
    "    dom = BeautifulSoup(url.text,\"lxml\")\n",
    "    for css in css_codes:\n",
    "        if dom.select(css):\n",
    "            print(css)\n",
    "            news+=[[_.text for _ in dom.select(css)]]"
   ]
  },
  {
   "cell_type": "markdown",
   "metadata": {},
   "source": [
    "## 키워드 분석"
   ]
  },
  {
   "cell_type": "code",
   "execution_count": 402,
   "metadata": {},
   "outputs": [],
   "source": [
    "from collections import Counter\n",
    "from nltk import Text\n",
    "from nltk.tokenize import sent_tokenize, word_tokenize, TweetTokenizer\n",
    "from nltk.corpus import gutenberg\n",
    "import os\n",
    "import matplotlib.pyplot as plt\n",
    "from math import log \n",
    "import re\n",
    "from konlpy.tag import Okt\n",
    "from konlpy.tag import Kkma # JVM 에서 가져오는 거라서 한번만 돌리는게 좋음\n",
    "from konlpy.corpus import kolaw,kobill\n",
    "from downloads import *\n",
    "from get_corpus import *\n",
    "from string import punctuation\n",
    "from NLP import *"
   ]
  },
  {
   "cell_type": "code",
   "execution_count": 403,
   "metadata": {},
   "outputs": [],
   "source": [
    "okt = Kkma()\n",
    "q2_token = okt.pos(q)\n",
    "query_list = [okt.pos(q)[0][0], okt.pos(q2)[0][0]]"
   ]
  },
  {
   "cell_type": "code",
   "execution_count": 404,
   "metadata": {
    "scrolled": false
   },
   "outputs": [],
   "source": [
    "find_keyword = [_.strip() for artcl in news for sen in artcl for _ in sen.split(\".\") if q2 in _ ]"
   ]
  },
  {
   "cell_type": "code",
   "execution_count": 405,
   "metadata": {},
   "outputs": [
    {
     "data": {
      "text/plain": [
       "['삼성생명', '디지털']"
      ]
     },
     "execution_count": 405,
     "metadata": {},
     "output_type": "execute_result"
    }
   ],
   "source": [
    "query_list"
   ]
  },
  {
   "cell_type": "code",
   "execution_count": 406,
   "metadata": {},
   "outputs": [],
   "source": [
    "pattern=re.compile(\"^NN|OL\")"
   ]
  },
  {
   "cell_type": "code",
   "execution_count": 407,
   "metadata": {},
   "outputs": [],
   "source": [
    "freq=FreqDist([_ for keyword in find_keyword for _ in okt.pos(keyword) if pattern.search(_[1]) and _[0] not in query_list and len(_[0])>1])"
   ]
  },
  {
   "cell_type": "code",
   "execution_count": 408,
   "metadata": {},
   "outputs": [
    {
     "data": {
      "text/plain": [
       "['삼성생명', '디지털']"
      ]
     },
     "execution_count": 408,
     "metadata": {},
     "output_type": "execute_result"
    }
   ],
   "source": [
    "query_list"
   ]
  },
  {
   "cell_type": "code",
   "execution_count": 409,
   "metadata": {},
   "outputs": [],
   "source": [
    "x=np.random.sample(len(freq))\n",
    "y=np.random.sample(len(freq))"
   ]
  },
  {
   "cell_type": "code",
   "execution_count": 410,
   "metadata": {},
   "outputs": [],
   "source": [
    "mean_freq=np.array(list(map(int,freq.values()))).mean()"
   ]
  },
  {
   "cell_type": "code",
   "execution_count": 411,
   "metadata": {},
   "outputs": [],
   "source": [
    "plt.rcParams.update({'font.size': 10, 'figure.figsize':(12,8)})"
   ]
  },
  {
   "cell_type": "code",
   "execution_count": 412,
   "metadata": {},
   "outputs": [
    {
     "data": {
      "text/plain": [
       "FreqDist({('원광', 'NNG'): 6, ('영업', 'NNG'): 4, ('교수', 'NNG'): 4, ('현장', 'NNG'): 4, ('혁신', 'NNG'): 4, ('경영', 'NNG'): 3, ('적용', 'NNG'): 3, ('직원', 'NNG'): 3, ('수학', 'NNG'): 3, ('RPA', 'OL'): 3, ...})"
      ]
     },
     "execution_count": 412,
     "metadata": {},
     "output_type": "execute_result"
    }
   ],
   "source": [
    "freq"
   ]
  },
  {
   "cell_type": "code",
   "execution_count": 413,
   "metadata": {},
   "outputs": [
    {
     "data": {
      "text/plain": [
       "2"
      ]
     },
     "execution_count": 413,
     "metadata": {},
     "output_type": "execute_result"
    }
   ],
   "source": [
    "freq[freq.max()]//3"
   ]
  },
  {
   "cell_type": "code",
   "execution_count": 414,
   "metadata": {},
   "outputs": [
    {
     "data": {
      "text/plain": [
       "FreqDist({('원광', 'NNG'): 6, ('영업', 'NNG'): 4, ('교수', 'NNG'): 4, ('현장', 'NNG'): 4, ('혁신', 'NNG'): 4, ('경영', 'NNG'): 3, ('적용', 'NNG'): 3, ('직원', 'NNG'): 3, ('수학', 'NNG'): 3, ('RPA', 'OL'): 3, ...})"
      ]
     },
     "execution_count": 414,
     "metadata": {},
     "output_type": "execute_result"
    }
   ],
   "source": [
    "freq"
   ]
  },
  {
   "cell_type": "code",
   "execution_count": 415,
   "metadata": {},
   "outputs": [
    {
     "data": {
      "image/png": "[encoded data removed]",
      "text/plain": [
       "<Figure size 864x576 with 1 Axes>"
      ]
     },
     "metadata": {
      "needs_background": "light"
     },
     "output_type": "display_data"
    }
   ],
   "source": [
    "ax=sns.scatterplot(x,y,s=list(map(lambda e: e**3,freq.values())),alpha=0.5)\n",
    "for key,value in enumerate(freq):\n",
    "    if freq[value]>mean_freq:\n",
    "        ax.text(x[key], y[key], value[0], horizontalalignment='left', size='medium', color='black', weight='semibold')"
   ]
  },
  {
   "cell_type": "markdown",
   "metadata": {},
   "source": [
    "## 특이한 단어를 뽑아낼 필요성을 느낌 : TF-IDF 미리하기"
   ]
  },
  {
   "cell_type": "code",
   "execution_count": 416,
   "metadata": {},
   "outputs": [],
   "source": [
    "import pickle"
   ]
  },
  {
   "cell_type": "code",
   "execution_count": 417,
   "metadata": {},
   "outputs": [],
   "source": [
    "with open('Tagged_news.pickle', 'rb') as f:\n",
    "    data = pickle.load(f) # 단 한줄씩 읽어옴"
   ]
  },
  {
   "cell_type": "code",
   "execution_count": 418,
   "metadata": {},
   "outputs": [],
   "source": [
    "normal_words = [__ for _ in data for __ in _ if pattern.search(__[1])]"
   ]
  },
  {
   "cell_type": "code",
   "execution_count": 419,
   "metadata": {},
   "outputs": [],
   "source": [
    "normal_dist = FreqDist(normal_words)"
   ]
  },
  {
   "cell_type": "code",
   "execution_count": 420,
   "metadata": {},
   "outputs": [],
   "source": [
    "tfidf_dict = FreqDist()\n",
    "for key in freq.keys():\n",
    "    if key in normal_dist.keys():\n",
    "        tfidf_dict[key] = freq.get(key)/normal_dist.get(key)\n",
    "    else:\n",
    "        tfidf_dict[key] = freq[key]"
   ]
  },
  {
   "cell_type": "code",
   "execution_count": 421,
   "metadata": {},
   "outputs": [
    {
     "data": {
      "image/png": "[encoded data removed]",
      "text/plain": [
       "<Figure size 864x576 with 1 Axes>"
      ]
     },
     "metadata": {
      "needs_background": "light"
     },
     "output_type": "display_data"
    }
   ],
   "source": [
    "ax = sns.scatterplot(x,y,s = list(map(lambda e: e**3,freq.values())),alpha = 0.5)\n",
    "for key,value in enumerate(freq):\n",
    "    if freq[value]>mean_freq:\n",
    "        ax.text(x[key], y[key], value[0], horizontalalignment = 'left', size = 'medium', color = 'black', weight = 'semibold', )"
   ]
  },
  {
   "cell_type": "markdown",
   "metadata": {},
   "source": [
    "## 자기 자신은 빼야 함"
   ]
  },
  {
   "cell_type": "code",
   "execution_count": 66,
   "metadata": {},
   "outputs": [
    {
     "data": {
      "text/plain": [
       "'skt'"
      ]
     },
     "execution_count": 66,
     "metadata": {},
     "output_type": "execute_result"
    }
   ],
   "source": [
    "\"skt\""
   ]
  },
  {
   "cell_type": "code",
   "execution_count": null,
   "metadata": {},
   "outputs": [],
   "source": []
  }
 ],
 "metadata": {
  "kernelspec": {
   "display_name": "Python 3",
   "language": "python",
   "name": "python3"
  },
  "language_info": {
   "codemirror_mode": {
    "name": "ipython",
    "version": 3
   },
   "file_extension": ".py",
   "mimetype": "text/x-python",
   "name": "python",
   "nbconvert_exporter": "python",
   "pygments_lexer": "ipython3",
   "version": "3.5.6"
  }
 },
 "nbformat": 4,
 "nbformat_minor": 2
}
