{
 "cells": [
  {
   "cell_type": "markdown",
   "metadata": {},
   "source": [
    "# 지원동기 대신 써주는 프로그램"
   ]
  },
  {
   "cell_type": "code",
   "execution_count": 144,
   "metadata": {},
   "outputs": [],
   "source": [
    "from bs4 import BeautifulSoup\n",
    "from downloads import *\n",
    "import requests\n",
    "import time\n",
    "import urllib\n",
    "import os\n",
    "from nltk.probability import FreqDist\n",
    "from NLP import * \n",
    "import numpy as np\n",
    "import pandas as pd\n",
    "import seaborn as sns\n",
    "import matplotlib \n",
    "import matplotlib.pyplot as plt\n",
    "import re\n",
    "import matplotlib.font_manager as fm\n",
    "import ngram\n",
    "font_setting()"
   ]
  },
  {
   "cell_type": "markdown",
   "metadata": {},
   "source": [
    "# Input"
   ]
  },
  {
   "cell_type": "code",
   "execution_count": 145,
   "metadata": {},
   "outputs": [
    {
     "name": "stdout",
     "output_type": "stream",
     "text": [
      "지원하시는 회사의 이름을 기재해주세요\t삼성생명\n",
      "지원하는 회사의 직무를 기재해주세요\t디지털\n",
      "몇 페이지까지 검색할까요?\t\t\n",
      "공고에 직무에 대한 설명이 있다면 키워드 중심으로 같이 써주세요(없을 시 공란으로 두세요)\t\n"
     ]
    }
   ],
   "source": [
    "q=input(\"지원하시는 회사의 이름을 기재해주세요\\t\")\n",
    "q2=input(\"지원하는 회사의 직무를 기재해주세요\\t\")\n",
    "try:\n",
    "    p=int(input(\"몇 페이지까지 검색할까요?\\t\\t\"))\n",
    "except:\n",
    "    p=10\n",
    "q3=input(\"공고에 직무에 대한 설명이 있다면 키워드 중심으로 같이 써주세요(없을 시 공란으로 두세요)\\t\")"
   ]
  },
  {
   "cell_type": "code",
   "execution_count": 146,
   "metadata": {},
   "outputs": [],
   "source": [
    "naver=BeautifulSoup(download(\"https://search.naver.com/search.naver?\",params={\"query\":q}).text,\"lxml\")\n",
    "company_official_name=naver.select_one(\".sp_company .main_title\").text\n",
    "company_name=[_.text for _ in naver.select(\".nsite dt a\")][0]\n",
    "company_link=[_.text for _ in naver.select(\".nsite dt a\")][1].replace(\"www.\",\"\").replace(\".com\",\"\")"
   ]
  },
  {
   "cell_type": "code",
   "execution_count": 147,
   "metadata": {},
   "outputs": [
    {
     "data": {
      "text/plain": [
       "('삼성생명보험', '삼성생명')"
      ]
     },
     "execution_count": 147,
     "metadata": {},
     "output_type": "execute_result"
    }
   ],
   "source": [
    "company_official_name,company_name"
   ]
  },
  {
   "cell_type": "code",
   "execution_count": 148,
   "metadata": {},
   "outputs": [
    {
     "name": "stdout",
     "output_type": "stream",
     "text": [
      "삼성생명보험에 입사하게 된다면 최고의 디지털 전문가가 되도록 언제나 노력하겠습니다\n"
     ]
    }
   ],
   "source": [
    "print(\"{0}에 입사하게 된다면 최고의 {1} 전문가가 되도록 언제나 노력하겠습니다\".format(company_official_name,q2))"
   ]
  },
  {
   "cell_type": "markdown",
   "metadata": {},
   "source": [
    "# Crawling"
   ]
  },
  {
   "cell_type": "code",
   "execution_count": 149,
   "metadata": {},
   "outputs": [],
   "source": [
    "def clean_title(title,q):\n",
    "    if q in title:\n",
    "        title = title.replace(q,\"\")\n",
    "    pattern = re.compile(\"\\[.*\\]\")\n",
    "    if pattern.search(title):\n",
    "        title = pattern.sub(\"\",title)\n",
    "    return title"
   ]
  },
  {
   "cell_type": "code",
   "execution_count": 150,
   "metadata": {},
   "outputs": [],
   "source": [
    "news_list=[]\n",
    "for page in range(1,p+1):\n",
    "    url=download(\"https://search.daum.net/search\",params={\"w\":\"news\",\"q\":q+\" \"+q2,\"cluster\":\"y\",\"p\":str(page)})\n",
    "    dom=BeautifulSoup(url.text,\"lxml\")\n",
    "    news_list+=[(_[\"href\"], clean_title(_.text,q)) for _ in dom.select(\"article .wrap_tit.mg_tit a\")]"
   ]
  },
  {
   "cell_type": "code",
   "execution_count": 151,
   "metadata": {},
   "outputs": [
    {
     "data": {
      "text/plain": [
       "[('https://cp.news.search.daum.net/p/79756322', '도입 6개월만에 안착 연 2만4000시간 ...'),\n",
       " ('http://v.media.daum.net/v/20190417143329712?f=o',\n",
       "  '로봇에 업무 맡기니 2만 시간 절약..의 디지털 혁신'),\n",
       " ('http://v.media.daum.net/v/20190417101206118?f=o', ', RPA 정착으로 디지털혁신 가속화'),\n",
       " ('https://cp.news.search.daum.net/p/78534934', ' 현성철號, 디지털혁신 성과 가시화'),\n",
       " ('http://v.media.daum.net/v/20190417182112681?f=o', ', 로봇 프로세스 자동화로 업무시간 단축'),\n",
       " ('http://v.media.daum.net/v/20190515092102660?f=o',\n",
       "  ', 1분기 순익 4473억원..전년 대비 14.7%↑'),\n",
       " ('https://cp.news.search.daum.net/p/79811253',\n",
       "  '\"우리가 남이가?\" , 삼성전자-제일기획 팔고 ‘삼성바이오...'),\n",
       " ('http://v.media.daum.net/v/20190509083900768?f=o',\n",
       "  ' \"생명사랑 릴레이로 자살 예방 기부하세요\"'),\n",
       " ('https://cp.news.search.daum.net/p/78542156', ', RPA 정착...연 2만4천시간 절약'),\n",
       " ('https://cp.news.search.daum.net/p/78532522',\n",
       "  ', ‘PRA 프로젝트’ 6개월...연간 2만4000시간 절약'),\n",
       " ('http://v.media.daum.net/v/20190523175101996?f=o',\n",
       "  '\"파괴적 혁신하려면 금융 - 핀테크社 협업해야\"'),\n",
       " ('http://v.media.daum.net/v/20190507103000743?f=o',\n",
       "  \", 총 5000만원 상금 '제1회 전국 탁구클럽 대축제' 개최\"),\n",
       " ('https://cp.news.search.daum.net/p/78534409',\n",
       "  \", 로봇 'RPA' 도입 반년 만에 연 2만4000시간 절약\"),\n",
       " ('http://v.media.daum.net/v/20190424060021137?f=o',\n",
       "  \" 현성철  사장, 글로벌 일류 도약 '5대 플...\"),\n",
       " ('http://v.media.daum.net/v/20190523184735640?f=o',\n",
       "  '핀테크 행사 깜짝 강연자로 나선 원기찬 삼성카드 사장'),\n",
       " ('https://cp.news.search.daum.net/p/78529761', ' \"RPA 도입후 2만4000시간 절약\"'),\n",
       " ('https://cp.news.search.daum.net/p/78545533',\n",
       "  '\\u200b, 단순업무에 RPA 도입해 연간 2만 시간 절약'),\n",
       " ('https://cp.news.search.daum.net/p/79987263',\n",
       "  '‘심증이 확증’으로 ·· 삼성 총수 되기 위해 ‘이재용’ 직접 챙...'),\n",
       " ('https://cp.news.search.daum.net/p/78557066',\n",
       "  ' “RPA 도입 6개월만에 年 2만4000시간 절약”'),\n",
       " ('http://v.media.daum.net/v/20190522111854095?f=o',\n",
       "  \"디레몬, 보험사 자동보장분석 '레몬브릿지' 서비스 고도화\"),\n",
       " ('http://v.media.daum.net/v/20190417160528338?f=o',\n",
       "  ' 로봇 자동화 도입 6개월..연 2만4,000시간 절약'),\n",
       " ('http://v.media.daum.net/v/20190305113148200?f=o', \" '청소년 미술대회' 첫 디지털 심사\"),\n",
       " ('http://v.media.daum.net/v/20190512104533601?f=o',\n",
       "  '보험의 디지털 혁신 만드는 디레몬..\"마이데이터 시대 이끈다\"'),\n",
       " ('https://cp.news.search.daum.net/p/79876462', ' 보험사 미래 인슈어테크에 달렸다.'),\n",
       " ('http://v.media.daum.net/v/20190417175704926?f=o', ', 업무자동화로 年 24,000시간 절약'),\n",
       " ('http://v.media.daum.net/v/20190508135613655?f=o',\n",
       "  '\"삼성이 생각하는 디지털 전환은\"..삼성SDS, 8년만에 대형 IT 콘퍼런스'),\n",
       " ('http://v.media.daum.net/v/20190521145703936?f=o',\n",
       "  '\"이색상품·블록체인·보험금 지급\"..보험사 인슈어테크 이모저모'),\n",
       " ('http://v.media.daum.net/v/20190520103300854?f=o',\n",
       "  \"우정사업본부, '우체국 뉴스룸24' 통해 국민과 친근한 소통\"),\n",
       " ('http://v.media.daum.net/v/20190418093601837?f=o', ', 보장금액 증액서비스 실시'),\n",
       " ('http://v.media.daum.net/v/20190516100024327?f=o',\n",
       "  '\"약관 어렵게 써놓고 책임회피\"..보험사 작심비판한 윤석헌'),\n",
       " ('http://v.media.daum.net/v/20190518110204069?f=o',\n",
       "  \"'개인 맞춤형' 헬스케어 서비스 늘리는 보험사들\"),\n",
       " ('https://cp.news.search.daum.net/p/77344479',\n",
       "  '내달 14일 삼성 GSAT ... 등 금융계열사 디지털 금융직 눈길'),\n",
       " ('https://cp.news.search.daum.net/p/79002479',\n",
       "  \"주52시간제 두 달 남은 보험업계…'RPA'가 해답?\"),\n",
       " ('https://cp.news.search.daum.net/p/79756321',\n",
       "  '주 52시간제 발맞춰 보험사도 ‘RPA 시스템’으...'),\n",
       " ('http://v.media.daum.net/v/20190513084804549?f=o',\n",
       "  \"'변해야 산다' 보험 CEO '인슈어테크' 혁신 바람-로봇이 보험심사·...\"),\n",
       " ('http://v.media.daum.net/v/20190515113001532?f=o',\n",
       "  '보험사 해외 인수합병 확대 조건..\"채권 등 자금조달 규제 완화해야\"'),\n",
       " ('http://v.media.daum.net/v/20190513104002038?f=o',\n",
       "  \"원광디지털대, '술수학 포럼 2019' 개최\"),\n",
       " ('https://cp.news.search.daum.net/p/78269446', ', 비대면 실명인증 서비스 도입'),\n",
       " ('https://cp.news.search.daum.net/p/79640291',\n",
       "  '김정남 DB손해보험 사장 디지털 혁신…내년 1월부터 AI설계사 보험...'),\n",
       " ('https://cp.news.search.daum.net/p/79756125', \"특집-업무 자동화 '바람'‧‧‧올해 더 거세다\"),\n",
       " ('https://cp.news.search.daum.net/p/79861626',\n",
       "  \"희비 갈린 한화 금융계열사 성적표…보험 '흐림'·증권 '맑음'\"),\n",
       " ('http://v.media.daum.net/v/20190322040617333?f=o',\n",
       "  ' , 보험약관 문자로..AI챗봇이 대출상담'),\n",
       " ('https://cp.news.search.daum.net/p/79635632',\n",
       "  \"차남규·여승주 이끄는 한화생명, '생보 2위' 지위 '먹구름'\"),\n",
       " ('https://cp.news.search.daum.net/p/79739243',\n",
       "  ' 백윤기 모친, 서민석 부친, 한효진 부친, 손권희'),\n",
       " ('https://cp.news.search.daum.net/p/78844887',\n",
       "  'DB손보·KB손보·…‘보험사 RPA 도입’ 기대와 우려'),\n",
       " ('https://cp.news.search.daum.net/p/78816655',\n",
       "  \"삼성전자, QLED 8K TV  '청소년 미술대회' 심사 활용\"),\n",
       " ('https://cp.news.search.daum.net/p/79743199',\n",
       "  '보험사들 저출산·저금리·규제 여파 순이익 급감, 1분기 순익 올해...'),\n",
       " ('https://cp.news.search.daum.net/p/79499140', '보험·카드사도 로봇 바람…RPA 도입 박차'),\n",
       " ('https://cp.news.search.daum.net/p/79801669',\n",
       "  ' 스마트 서비스(Smart Service)로 초 연결(hyper-connect...'),\n",
       " ('https://cp.news.search.daum.net/p/79477288',\n",
       "  '(대한민국 재벌 신뢰지수) KB국민은행, 2년 연속 신뢰하는 은행 1위'),\n",
       " ('http://v.media.daum.net/v/20190418171549209?f=o',\n",
       "  \"보험사 취업, 직무이해 높고 '핀테크'까지 갖추면 금상첨화\"),\n",
       " ('http://v.media.daum.net/v/20190328170122630?f=o', \" , '혁신'으로 업계 불황 넘는다\"),\n",
       " ('https://cp.news.search.daum.net/p/77565139', ', 새 먹거리 인슈어테크에 ‘통 큰 투자’'),\n",
       " ('https://cp.news.search.daum.net/p/79655392',\n",
       "  '윤석헌 \"국내 금융포용 미흡…분쟁 적극 대응\"(종합)'),\n",
       " ('https://cp.news.search.daum.net/p/79424938', ' 박용진 “시...'),\n",
       " ('https://cp.news.search.daum.net/p/79620058', '5월 15일 주요공시'),\n",
       " ('https://cp.news.search.daum.net/p/79412924', ' \"단순·반복 업무는 가라!\"…RPA바람'),\n",
       " ('https://cp.news.search.daum.net/p/79553864',\n",
       "  '삼성SDS, \"삼바 분식회계 은폐 개입, 있을 수 없는 일\"…내부거래 ...'),\n",
       " ('https://cp.news.search.daum.net/p/76139714', ', 금융인공지능센터 세워 전문가 끌어 모은다 '),\n",
       " ('https://cp.news.search.daum.net/p/79450169', ' 삼성스포츠의 삼성그룹'),\n",
       " ('http://v.media.daum.net/v/20190429074200164?f=o',\n",
       "  \"세계선수권대회 '안재현 동메달 수확' 탁구 대표팀, 30일 귀국\"),\n",
       " ('https://cp.news.search.daum.net/p/79338615',\n",
       "  ' 2금융권, 로봇 ‘RPA’ 도입 경쟁...이면엔 일자리 감소 우려'),\n",
       " ('https://cp.news.search.daum.net/p/79392928',\n",
       "  '솔리드웨어, 오는 14일 보험 특화 인공지능 행사 개최'),\n",
       " ('http://v.media.daum.net/v/20190318171506448?f=o', \"·화재 면접 '핀테크' 질문 대비를\"),\n",
       " ('http://v.media.daum.net/v/20190322155401730?f=o',\n",
       "  ' 다이렉트, 보험료 계산만 해도 모바일 커피 쿠폰 추첨'),\n",
       " ('http://v.media.daum.net/v/20190318211807397?f=o',\n",
       "  \"'김한별이 끝냈다' , 우리은행 꺾고 챔프전 진출\"),\n",
       " ('http://v.media.daum.net/v/20190319104503285?f=o',\n",
       "  \"여자농구 KB-, 13년 만에 챔피언전 '재격돌'\"),\n",
       " ('https://cp.news.search.daum.net/p/79291899',\n",
       "  '“알아서 척척”금융권 로봇 RPA 속도전...실제 효율성은?'),\n",
       " ('https://cp.news.search.daum.net/p/79238782', ' 보험·카드사, 취약계층 자립 돕는다'),\n",
       " ('https://cp.news.search.daum.net/p/79279348',\n",
       "  '\"JY 소환될까\"…\\'분식회계\\' 의혹 삼바 자회사 팀장 자택서 \\'공용서...'),\n",
       " ('http://v.media.daum.net/v/20190422091803006?f=o',\n",
       "  \"사외이사 '그들만의 리그' | 親정부×권력기관 출신 인기 여전 IT·...\"),\n",
       " ('http://v.media.daum.net/v/20190314214304155?f=o',\n",
       "  '우리은행, 11점 차 뒤집고  제압..PO 1차전 승리'),\n",
       " ('http://v.media.daum.net/v/20190305174423934?f=o',\n",
       "  \", 내달 5일까지 '청소년 미술대회' 예선접수\"),\n",
       " ('http://v.media.daum.net/v/20190419160900018?f=o',\n",
       "  '\"라떼는 말이야~\" 요즘 인싸라면 다 안다는 그 말'),\n",
       " ('http://v.media.daum.net/v/20190305103646289?f=o',\n",
       "  \" 현성철  사장, 계열사 두루 거친 '재무통'\"),\n",
       " ('http://v.media.daum.net/v/20190312105702452?f=o',\n",
       "  \"여자농구 PO 우리은행 vs  14일 격돌 '두 판에 끝낸다'\"),\n",
       " ('https://cp.news.search.daum.net/p/78981770',\n",
       "  '“보험사 면접 준비할 때 직무에 대한 이해와 핀테크 지식 필수”'),\n",
       " ('http://v.media.daum.net/v/20190418065103015?f=o',\n",
       "  \"여승주 한화생명 대표, 덧셈경영으로 '차남' 지원사격\"),\n",
       " ('http://v.media.daum.net/v/20190227160601909?f=o',\n",
       "  ', 삼성벤처투자의 신기술투자조합에 495억 출자'),\n",
       " ('http://v.media.daum.net/v/20190417135703132?f=o',\n",
       "  '육아휴직 아빠·직장구하는 할머니..시대 변하니 광고도 변한다'),\n",
       " ('http://v.media.daum.net/v/20190312100304147?f=o', ', 저해지환급형 종신보험 2종 출시'),\n",
       " ('http://v.media.daum.net/v/20190305091210529?f=o',\n",
       "  ', 청소년 미술대회 개최..4월5일까지 접수'),\n",
       " ('https://cp.news.search.daum.net/p/78816672', '미술대회 작품 심사도 삼성전자 QLED 8K로!'),\n",
       " ('https://cp.news.search.daum.net/p/78817154',\n",
       "  '삼성 QLED 8K TV, ‘청소년 미술대회’ 심사에 활용된다'),\n",
       " ('https://cp.news.search.daum.net/p/78819874', '삼성 QLED 8K, 미술대회 작품 심사에도 활용'),\n",
       " ('https://cp.news.search.daum.net/p/78816764', '삼성 QLED 8K로 미술대회 작품 심사까지…'),\n",
       " ('https://cp.news.search.daum.net/p/76821040', ', 39회 청소년 미술대회 개최'),\n",
       " ('http://v.media.daum.net/v/20190421182535667?f=o',\n",
       "  '25개국 폐휴대전화 수거 .. 삼성의 친환경 캠페인'),\n",
       " ('http://v.media.daum.net/v/20190421121619304?f=o',\n",
       "  \"'25개국서 폐휴대전화 수거'..삼성, 세계 '녹색경영' 캠페인\"),\n",
       " ('https://cp.news.search.daum.net/p/70293511',\n",
       "  ', 디지털 부문 경력사원 채용···9월 21일 접수마감'),\n",
       " ('http://v.media.daum.net/v/20190415084415585?f=o',\n",
       "  '시장심리 톱5, 현대중공업·삼성전자·대우조선해양·...'),\n",
       " ('http://v.media.daum.net/v/20190305142032184?f=o',\n",
       "  \" '청소년 미술대회' 내달5일까지 학생 예선 접수\"),\n",
       " ('http://v.media.daum.net/v/20190306190416089?f=o',\n",
       "  ', 여자프로농구 2군 리그 우승..김나연 MVP'),\n",
       " ('http://v.media.daum.net/v/20190304210003419?f=o',\n",
       "  '박지현 첫 풀타임..우리은행, 미리 보는 PO서  제압'),\n",
       " ('https://cp.news.search.daum.net/p/78816731', \"'삼성 QLED 8K'로 미술대회 작품 심사한다\"),\n",
       " ('https://cp.news.search.daum.net/p/78817286',\n",
       "  \"삼성전자, 'QLED 8K TV'로 미술대회 작품 심사한다\"),\n",
       " ('https://cp.news.search.daum.net/p/77494921', \"'박지수 26득점' 국민은행,  꺾고 먼저 웃었다\"),\n",
       " ('https://cp.news.search.daum.net/p/78825322',\n",
       "  ' 청소년 미술대회서 ‘삼성 QLED 8K’로 작품 심사'),\n",
       " ('https://cp.news.search.daum.net/p/76794250', ', 청소년 미술대회 개최…내달 5일까지 예선접수'),\n",
       " ('http://v.media.daum.net/v/20190419095400114?f=o',\n",
       "  \"금감원, 4년만에 금융권 종합검사 시작..'국민은행·한화생명·메리...\")]"
      ]
     },
     "execution_count": 151,
     "metadata": {},
     "output_type": "execute_result"
    }
   ],
   "source": [
    "news_list"
   ]
  },
  {
   "cell_type": "code",
   "execution_count": 152,
   "metadata": {
    "scrolled": true
   },
   "outputs": [],
   "source": [
    "# clean_title(title[0],q)"
   ]
  },
  {
   "cell_type": "code",
   "execution_count": 153,
   "metadata": {},
   "outputs": [],
   "source": [
    "# textdistance.hamming.normalized_similarity(\"안녕\", \"안녕\")"
   ]
  },
  {
   "cell_type": "code",
   "execution_count": 154,
   "metadata": {},
   "outputs": [],
   "source": [
    "# title=[title for link,title in news_list]\n",
    "# dist=[]\n",
    "# # import textdistance\n",
    "# # for i in range(len(title)):\n",
    "# #     for _ in title[i:]:\n",
    "# #         dist=textdistance.hamming.normalized_similarity(clean_title(_,q),clean_title(title[i],q))\n",
    "# #         print(dist)\n",
    "# #         if dist>0 and dist<1:\n",
    "# #             print(title[i],dist,_)\n",
    "# #             title[i]=np.nan\n",
    "\n",
    "# # textdistance.hamming('text', 'test')\n",
    "# # textdistance.hamming.normalized_similarity('text', 'test')\n",
    "# # textdistance.hamming('arrow', 'arow')textdistance.hamming.normalized_similarity('arrow', 'arow')"
   ]
  },
  {
   "cell_type": "code",
   "execution_count": 155,
   "metadata": {},
   "outputs": [],
   "source": [
    "# news_list=pd.DataFrame({\"title\":title,\"link\":[link for link,_ in news_list]}).dropna().reset_index().drop(\"index\",1)"
   ]
  },
  {
   "cell_type": "code",
   "execution_count": 156,
   "metadata": {
    "scrolled": true
   },
   "outputs": [],
   "source": [
    "# for link, title in news_list:\n",
    "#     url = download(link)\n",
    "#     dom = BeautifulSoup(url.text,\"lxml\")\n",
    "#     if dom.select(\"#articletxt\"): # 한국 경제\n",
    "#         print([_.text for _ in dom.select(\"#articletxt\")])\n",
    "#     elif dom.select(\"#articleBody p\"):# 아이뉴스 \n",
    "#         print(dom.select(\"#articleBody p\"))\n",
    "#     elif dom.select(\"#divNewsContent\"):\n",
    "#         print([_.text for _ in dom.select(\"#divNewsContent\")])\n",
    "#     elif dom.select(\"#articleText\"):\n",
    "#         print([_.text for _ in dom.select(\"#articleText\")]) # 헤럴드경제\n",
    "#     elif dom.select(\"#articleBody\"):\n",
    "#         print([_.text for _ in dom.select(\"#articleBody\")]) # 전자신문"
   ]
  },
  {
   "cell_type": "markdown",
   "metadata": {},
   "source": [
    "## 링크 타고들어가서 뉴스 가져오기 : re사용"
   ]
  },
  {
   "cell_type": "code",
   "execution_count": 157,
   "metadata": {},
   "outputs": [],
   "source": [
    "css_codes = [\"[class*=['news']]\"]"
   ]
  },
  {
   "cell_type": "code",
   "execution_count": 158,
   "metadata": {},
   "outputs": [],
   "source": [
    "css_codes = [\"[class*='news']\",\"[class*='body']\",\"[class*='article']\"]"
   ]
  },
  {
   "cell_type": "code",
   "execution_count": 159,
   "metadata": {},
   "outputs": [],
   "source": [
    "# news=[]\n",
    "# for link,title in news_list:\n",
    "#     print(link)\n",
    "#     url = download(link)\n",
    "#     dom = BeautifulSoup(url.text,\"lxml\")\n",
    "#     for css in css_codes:\n",
    "#         if dom.select(css):\n",
    "#             print(css)\n",
    "#             news+=[[_.text for _ in dom.select(css)]]\n",
    "#             break"
   ]
  },
  {
   "cell_type": "code",
   "execution_count": 160,
   "metadata": {},
   "outputs": [],
   "source": [
    "news = []\n",
    "for link,_ in news_list:\n",
    "    url = download(link)\n",
    "    dom = BeautifulSoup(url.text,\"lxml\")\n",
    "    for css in css_codes:\n",
    "        if dom.select(css):\n",
    "            news += [[_.text for _ in dom.select(css)]]\n",
    "            break"
   ]
  },
  {
   "cell_type": "markdown",
   "metadata": {},
   "source": [
    "# get keyword"
   ]
  },
  {
   "cell_type": "code",
   "execution_count": 161,
   "metadata": {},
   "outputs": [],
   "source": [
    "from collections import Counter\n",
    "from nltk import Text\n",
    "from nltk.tokenize import sent_tokenize, word_tokenize, TweetTokenizer\n",
    "from nltk.corpus import gutenberg\n",
    "import os\n",
    "import matplotlib.pyplot as plt\n",
    "from math import log \n",
    "import re\n",
    "from konlpy.tag import Okt\n",
    "from konlpy.tag import Kkma # JVM 에서 가져오는 거라서 한번만 돌리는게 좋음\n",
    "from konlpy.corpus import kolaw,kobill\n",
    "from downloads import *\n",
    "from get_corpus import *\n",
    "from string import punctuation\n",
    "from NLP import *"
   ]
  },
  {
   "cell_type": "code",
   "execution_count": 162,
   "metadata": {},
   "outputs": [],
   "source": [
    "okt = Kkma()\n",
    "q2_token = okt.pos(q)\n",
    "query_list = [okt.pos(q)[0][0], okt.pos(q2)[0][0]]"
   ]
  },
  {
   "cell_type": "code",
   "execution_count": 163,
   "metadata": {
    "scrolled": false
   },
   "outputs": [],
   "source": [
    "find_keyword = [_.strip() for artcl in news for sen in artcl for _ in sen.split(\".\") if q2 in _ ]"
   ]
  },
  {
   "cell_type": "code",
   "execution_count": 164,
   "metadata": {},
   "outputs": [
    {
     "data": {
      "text/plain": [
       "['삼성생명', '디지털']"
      ]
     },
     "execution_count": 164,
     "metadata": {},
     "output_type": "execute_result"
    }
   ],
   "source": [
    "query_list"
   ]
  },
  {
   "cell_type": "markdown",
   "metadata": {},
   "source": [
    "## keyword cleansing : 그룹사, 다른이름 빼기"
   ]
  },
  {
   "cell_type": "code",
   "execution_count": 165,
   "metadata": {},
   "outputs": [],
   "source": [
    "def split_sub(name):\n",
    "    pttn=re.compile(\"[A-z]+\")\n",
    "    if pttn.search(name):\n",
    "        return pttn.search(name)[0],pttn.sub(\"\",name)\n",
    "    else:\n",
    "        return ''"
   ]
  },
  {
   "cell_type": "code",
   "execution_count": 166,
   "metadata": {},
   "outputs": [
    {
     "data": {
      "text/plain": [
       "''"
      ]
     },
     "execution_count": 166,
     "metadata": {},
     "output_type": "execute_result"
    }
   ],
   "source": [
    "split_sub(company_official_name)"
   ]
  },
  {
   "cell_type": "code",
   "execution_count": 167,
   "metadata": {},
   "outputs": [
    {
     "data": {
      "text/plain": [
       "('삼성생명보험', 'samsunglife')"
      ]
     },
     "execution_count": 167,
     "metadata": {},
     "output_type": "execute_result"
    }
   ],
   "source": [
    "company_official_name,company_link"
   ]
  },
  {
   "cell_type": "code",
   "execution_count": 168,
   "metadata": {},
   "outputs": [],
   "source": [
    "query_list+=[company_official_name,company_name,split_sub(company_official_name),split_sub(company_name)]"
   ]
  },
  {
   "cell_type": "code",
   "execution_count": 169,
   "metadata": {},
   "outputs": [],
   "source": [
    "query_list = [_ for _ in unique(query_list) if _ != \"\"] "
   ]
  },
  {
   "cell_type": "code",
   "execution_count": 170,
   "metadata": {},
   "outputs": [
    {
     "data": {
      "text/plain": [
       "['디지털', '삼성생명', '삼성생명보험']"
      ]
     },
     "execution_count": 170,
     "metadata": {},
     "output_type": "execute_result"
    }
   ],
   "source": [
    "query_list"
   ]
  },
  {
   "cell_type": "code",
   "execution_count": 171,
   "metadata": {
    "scrolled": true
   },
   "outputs": [],
   "source": [
    "for _ in range(2,len(q)):\n",
    "    query_list+=ngram.umjeol(q,_)"
   ]
  },
  {
   "cell_type": "code",
   "execution_count": 172,
   "metadata": {},
   "outputs": [],
   "source": [
    "query_list=[_.lower() for _ in query_list]"
   ]
  },
  {
   "cell_type": "code",
   "execution_count": 173,
   "metadata": {},
   "outputs": [],
   "source": [
    "query_list=[_ for q in query_list for _ in q.split(\" \")]"
   ]
  },
  {
   "cell_type": "code",
   "execution_count": 174,
   "metadata": {
    "scrolled": true
   },
   "outputs": [
    {
     "data": {
      "text/plain": [
       "['디지털', '삼성생명', '삼성생명보험', '삼성', '성생', '생명', '삼성생', '성생명']"
      ]
     },
     "execution_count": 174,
     "metadata": {},
     "output_type": "execute_result"
    }
   ],
   "source": [
    "query_list"
   ]
  },
  {
   "cell_type": "markdown",
   "metadata": {},
   "source": [
    "## find keyword  : preprocessing"
   ]
  },
  {
   "cell_type": "code",
   "execution_count": 175,
   "metadata": {},
   "outputs": [],
   "source": [
    "find_keyword=[_.lower() for _ in find_keyword]"
   ]
  },
  {
   "cell_type": "code",
   "execution_count": 176,
   "metadata": {},
   "outputs": [],
   "source": [
    "pattern=re.compile(\"(^NN)|OL\")"
   ]
  },
  {
   "cell_type": "code",
   "execution_count": 177,
   "metadata": {},
   "outputs": [],
   "source": [
    "freq=FreqDist([_ for keyword in find_keyword for _ in okt.pos(keyword) if _[0] not in query_list])"
   ]
  },
  {
   "cell_type": "code",
   "execution_count": null,
   "metadata": {},
   "outputs": [],
   "source": [
    "freq"
   ]
  },
  {
   "cell_type": "code",
   "execution_count": 138,
   "metadata": {},
   "outputs": [],
   "source": [
    "freq=FreqDist([_ for keyword in find_keyword for _ in okt.pos(keyword) if _[0] not in query_list and len(_[0])>1 and pattern.search(_[1])])"
   ]
  },
  {
   "cell_type": "code",
   "execution_count": 139,
   "metadata": {},
   "outputs": [
    {
     "data": {
      "text/plain": [
       "FreqDist({('카레', 'NNG'): 65, ('제품', 'NNG'): 24, ('소비자', 'NNG'): 23, ('시장', 'NNG'): 21, ('다양', 'NNG'): 20, ('출시', 'NNG'): 20, ('업계', 'NNG'): 19, ('요리', 'NNG'): 18, ('활용', 'NNG'): 16, ('언서', 'NNG'): 16, ...})"
      ]
     },
     "execution_count": 139,
     "metadata": {},
     "output_type": "execute_result"
    }
   ],
   "source": [
    "freq"
   ]
  },
  {
   "cell_type": "code",
   "execution_count": 129,
   "metadata": {},
   "outputs": [
    {
     "data": {
      "image/png": "[encoded data removed]",
      "text/plain": [
       "<Figure size 432x288 with 1 Axes>"
      ]
     },
     "metadata": {
      "needs_background": "light"
     },
     "output_type": "display_data"
    }
   ],
   "source": [
    "freq.plot()"
   ]
  },
  {
   "cell_type": "markdown",
   "metadata": {},
   "source": [
    "# 시각화"
   ]
  },
  {
   "cell_type": "code",
   "execution_count": 130,
   "metadata": {},
   "outputs": [],
   "source": [
    "plt.rcParams.update({'font.size': 10, 'figure.figsize':(14,12)})"
   ]
  },
  {
   "cell_type": "code",
   "execution_count": 131,
   "metadata": {},
   "outputs": [],
   "source": [
    "# x=np.random.sample(len(freq))\n",
    "# y=np.random.sample(len(freq))\n",
    "# mean_freq=np.array(list(map(int,freq.values()))).mean()\n",
    "# ax=sns.scatterplot(x,y,s=list(map(lambda e: e**2,freq.values())),alpha=0.5)\n",
    "# for key,value in enumerate(freq):\n",
    "#     if freq[value]>mean_freq:\n",
    "#         ax.text(x[key], y[key], value[0], horizontalalignment='left', size='medium', color='black', weight='semibold')"
   ]
  },
  {
   "cell_type": "code",
   "execution_count": 132,
   "metadata": {},
   "outputs": [
    {
     "name": "stdout",
     "output_type": "stream",
     "text": [
      "Requirement already satisfied: wordcloud in c:\\users\\long8v\\anaconda3\\envs\\long8vv\\lib\\site-packages (1.5.0)\n",
      "Requirement already satisfied: numpy>=1.6.1 in c:\\users\\long8v\\anaconda3\\envs\\long8vv\\lib\\site-packages (from wordcloud) (1.16.3)\n",
      "Requirement already satisfied: pillow in c:\\users\\long8v\\anaconda3\\envs\\long8vv\\lib\\site-packages (from wordcloud) (6.0.0)\n"
     ]
    }
   ],
   "source": [
    "!pip install wordcloud"
   ]
  },
  {
   "cell_type": "code",
   "execution_count": 133,
   "metadata": {},
   "outputs": [],
   "source": [
    "from wordcloud import WordCloud"
   ]
  },
  {
   "cell_type": "code",
   "execution_count": 142,
   "metadata": {},
   "outputs": [],
   "source": [
    "for_cld = FreqDist([_[0] for keyword in find_keyword for _ in okt.pos(keyword) if pattern.search(_[1]) and _[0] not in query_list and len(_[0])>1])\n",
    "# for_cld = FreqDist([_[0] for _ in freq])"
   ]
  },
  {
   "cell_type": "code",
   "execution_count": 143,
   "metadata": {},
   "outputs": [
    {
     "data": {
      "image/png": "[encoded data removed]",
      "text/plain": [
       "<PIL.Image.Image image mode=RGB size=600x400 at 0x2360CD2CD30>"
      ]
     },
     "execution_count": 143,
     "metadata": {},
     "output_type": "execute_result"
    }
   ],
   "source": [
    "cld = WordCloud(font_path=\"c:/Windows/Fonts/malgun.ttf\",width=600,height=400,background_color='white')\n",
    "cld.generate_from_frequencies(for_cld).to_image()"
   ]
  },
  {
   "cell_type": "markdown",
   "metadata": {},
   "source": [
    "## 특이한 단어를 뽑아낼 필요성을 느낌 : TF-IDF 해보기"
   ]
  },
  {
   "cell_type": "code",
   "execution_count": 259,
   "metadata": {},
   "outputs": [],
   "source": [
    "import pickle"
   ]
  },
  {
   "cell_type": "code",
   "execution_count": 260,
   "metadata": {},
   "outputs": [],
   "source": [
    "with open('Tagged_news.pickle', 'rb') as f:\n",
    "    data = pickle.load(f) # 단 한줄씩 읽어옴"
   ]
  },
  {
   "cell_type": "code",
   "execution_count": 261,
   "metadata": {},
   "outputs": [],
   "source": [
    "normal_words = [__ for _ in data for __ in _ if pattern.search(__[1])]"
   ]
  },
  {
   "cell_type": "code",
   "execution_count": 262,
   "metadata": {},
   "outputs": [],
   "source": [
    "normal_dist = FreqDist(normal_words)"
   ]
  },
  {
   "cell_type": "code",
   "execution_count": 263,
   "metadata": {},
   "outputs": [],
   "source": [
    "tfidf_dict = FreqDist()\n",
    "for key in freq.keys():\n",
    "    if key in normal_dist.keys():\n",
    "        tfidf_dict[key] = freq.get(key)/normal_dist.get(key)\n",
    "    else:\n",
    "        tfidf_dict[key] = freq[key]"
   ]
  },
  {
   "cell_type": "code",
   "execution_count": 264,
   "metadata": {},
   "outputs": [],
   "source": [
    "mean_freq=np.array(list(map(int,tfidf_dict.values()))).mean()"
   ]
  },
  {
   "cell_type": "code",
   "execution_count": 265,
   "metadata": {},
   "outputs": [
    {
     "data": {
      "text/plain": [
       "FreqDist({('분석', 'NNG'): 104, ('주가', 'NNG'): 68, ('기업', 'NNG'): 65, ('분기', 'NNG'): 54, ('가치', 'NNG'): 52, ('점수', 'NNG'): 49, ('예상', 'NNG'): 48, ('데이터', 'NNG'): 48, ('상장', 'NNG'): 45, ('결과', 'NNG'): 40, ...})"
      ]
     },
     "execution_count": 265,
     "metadata": {},
     "output_type": "execute_result"
    }
   ],
   "source": [
    "freq"
   ]
  },
  {
   "cell_type": "code",
   "execution_count": null,
   "metadata": {},
   "outputs": [],
   "source": [
    "# ax = sns.scatterplot(x,y,s = list(map(lambda e: e**3,tfidf_dict.values())),alpha = 0.5)\n",
    "# for key,value in enumerate(tfidf_dict):\n",
    "#     if tfidf_dict[value]>mean_freq:\n",
    "#         ax.text(x[key], y[key], value[0], horizontalalignment = 'left', size = 'medium', color = 'black', weight = 'semibold', )"
   ]
  },
  {
   "cell_type": "markdown",
   "metadata": {},
   "source": [
    "망함.."
   ]
  },
  {
   "cell_type": "code",
   "execution_count": null,
   "metadata": {},
   "outputs": [],
   "source": []
  },
  {
   "cell_type": "code",
   "execution_count": 140,
   "metadata": {},
   "outputs": [
    {
     "data": {
      "text/plain": [
       "['SKT',\n",
       " 'AI',\n",
       " 'sk',\n",
       " 'kt',\n",
       " ['SK텔레콤'],\n",
       " 'SK telecom',\n",
       " 'www.sktelecom.com',\n",
       " 'SK텔레콤',\n",
       " 'SK telecom',\n",
       " 'www.sktelecom.com',\n",
       " 'SK텔레콤',\n",
       " 'SK telecom',\n",
       " 'www.sktelecom.com']"
      ]
     },
     "execution_count": 140,
     "metadata": {},
     "output_type": "execute_result"
    }
   ],
   "source": [
    "query_list"
   ]
  },
  {
   "cell_type": "code",
   "execution_count": null,
   "metadata": {},
   "outputs": [],
   "source": []
  }
 ],
 "metadata": {
  "kernelspec": {
   "display_name": "Python 3",
   "language": "python",
   "name": "python3"
  },
  "language_info": {
   "codemirror_mode": {
    "name": "ipython",
    "version": 3
   },
   "file_extension": ".py",
   "mimetype": "text/x-python",
   "name": "python",
   "nbconvert_exporter": "python",
   "pygments_lexer": "ipython3",
   "version": "3.5.6"
  }
 },
 "nbformat": 4,
 "nbformat_minor": 2
}
