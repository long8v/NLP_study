{
 "cells": [
  {
   "cell_type": "code",
   "execution_count": 8,
   "metadata": {},
   "outputs": [],
   "source": [
    "import os\n",
    "import docx"
   ]
  },
  {
   "cell_type": "code",
   "execution_count": 9,
   "metadata": {},
   "outputs": [],
   "source": [
    "resume_path=r\"C:\\Users\\long8v\\Dropbox\\북극곰\\4-2\\하반기\""
   ]
  },
  {
   "cell_type": "code",
   "execution_count": 13,
   "metadata": {},
   "outputs": [
    {
     "data": {
      "text/plain": [
       "['1차면접탈_LG화학_영업마케팅.hwp',\n",
       " '1차면접탈_라인플러스_사용자데이터분석.hwp',\n",
       " 'LINE과제',\n",
       " '면접준비',\n",
       " '면접포기_LG유플러스_고객분석데이터마케팅.hwp',\n",
       " '서류탈_BC카드_빅데이터.hwp',\n",
       " '서류탈_NICE평가정보_개인신용평가컨설팅.hwp',\n",
       " '서류탈_현대해상_통계데이터분석.hwp',\n",
       " '인적성탈_KB국민카드_일반직무.hwp',\n",
       " '인적성탈_SK브로드밴드_DATA분석개인화.hwp',\n",
       " '인적성탈_신한카드_Data_Science.hwp',\n",
       " '인적성포기_롯데멤버스_통계분석.hwp',\n",
       " '인적성포기_우리카드_디지털부문.hwp',\n",
       " '자료',\n",
       " '최종면접탈_KCB_분석컨설팅.hwp',\n",
       " '최종면접탈_삼성카드_데이터분석_전환.hwp']"
      ]
     },
     "execution_count": 13,
     "metadata": {},
     "output_type": "execute_result"
    }
   ],
   "source": [
    "os.listdir(resume_path)"
   ]
  },
  {
   "cell_type": "code",
   "execution_count": null,
   "metadata": {},
   "outputs": [],
   "source": [
    "os.l"
   ]
  },
  {
   "cell_type": "code",
   "execution_count": null,
   "metadata": {},
   "outputs": [],
   "source": []
  }
 ],
 "metadata": {
  "kernelspec": {
   "display_name": "Python 3",
   "language": "python",
   "name": "python3"
  },
  "language_info": {
   "codemirror_mode": {
    "name": "ipython",
    "version": 3
   },
   "file_extension": ".py",
   "mimetype": "text/x-python",
   "name": "python",
   "nbconvert_exporter": "python",
   "pygments_lexer": "ipython3",
   "version": "3.5.6"
  }
 },
 "nbformat": 4,
 "nbformat_minor": 2
}
